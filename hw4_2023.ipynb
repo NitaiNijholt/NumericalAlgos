{
 "cells": [
  {
   "cell_type": "markdown",
   "id": "d4c81d3e-6c35-4c9e-9721-dc27a3d00251",
   "metadata": {
    "nbgrader": {
     "grade": false,
     "grade_id": "cell-06d3e5bf55c941ae",
     "locked": true,
     "schema_version": 3,
     "solution": false,
     "task": false
    },
    "tags": []
   },
   "source": [
    "# Homework set 4"
   ]
  },
  {
   "cell_type": "markdown",
   "id": "64728360-8bed-4d1f-bb87-bf746ea66002",
   "metadata": {
    "nbgrader": {
     "grade": false,
     "grade_id": "cell-736ff6bc3e0d0696",
     "locked": true,
     "schema_version": 3,
     "solution": false,
     "task": false
    }
   },
   "source": [
    "Before you turn this problem in, make sure everything runs as expected (in the menubar, select Kernel → Restart Kernel and Run All Cells...).\n",
    "\n",
    "Please **submit this Jupyter notebook through Canvas** no later than **Mon Nov. 27, 9:00**. **Submit the notebook file with your answers (as .ipynb file) and a pdf printout. The pdf version can be used by the teachers to provide feedback. A pdf version can be made using the save and export option in the Jupyter Lab file menu.**\n",
    "\n",
    "Homework is in **groups of two**, and you are expected to hand in original work. Work that is copied from another group will not be accepted."
   ]
  },
  {
   "cell_type": "markdown",
   "id": "d8c33491-f6d6-45df-9857-8fae1d7d446c",
   "metadata": {
    "nbgrader": {
     "grade": false,
     "grade_id": "cell-b13bc5ed16bce8e0",
     "locked": true,
     "schema_version": 3,
     "solution": false,
     "task": false
    }
   },
   "source": [
    "# Exercise 0\n",
    "Write down the names + student ID of the people in your group."
   ]
  },
  {
   "cell_type": "markdown",
   "id": "9483e0d9-7aec-4521-90ac-761fb34ee023",
   "metadata": {
    "nbgrader": {
     "grade": true,
     "grade_id": "cell-fd464f55ba436b1c",
     "locked": false,
     "points": 0,
     "schema_version": 3,
     "solution": true,
     "task": false
    }
   },
   "source": [
    "Pablo Rodriguez Alves - 15310191\n",
    "Nitai Nijholt - 12709018"
   ]
  },
  {
   "cell_type": "markdown",
   "id": "40a6166f-8dc2-4eb0-b953-961fe8f7a2ce",
   "metadata": {},
   "source": [
    "# About imports\n",
    "Please import the needed packages by yourself."
   ]
  },
  {
   "cell_type": "markdown",
   "id": "a78e262c-f192-4fe5-853b-03248173a9be",
   "metadata": {},
   "source": [
    "# Sparse matrices\n",
    "A _sparse matrix_ or _sparse array_ is a matrix in which most of the elements are zero. There is no strict definition how many elements need to be zero for a matrix to be considered sparse. In many examples, the number of nonzeros per row or column is a small fraction, a few percent or less, of the total number of elements of the row or column. By contrast, if most of the elements are nonzero, then the matrix is considered _dense_. \n",
    "\n",
    "In the context of software for scientific computing, a sparse matrix typically refers to a storage format, in which elements which are known to be zero are not stored. In Python, the library `scipy.sparse` defines several sparse matrix classes, such as `scipy.sparse.csr_array`. To construct such an object, one passes for each nonzero element the value, and the row and column coordinates. In some cases, one can also just pass the nonzero (off-)diagonals, see `scipy.sparse.diags`.\n",
    "\n",
    "Functions for dense matrices do not always work with sparse matrices. For example for the product of a sparse matrix with a (dense) vector, there is the member function `scipy.sparse.csr_array.dot`, and for solving linear equations involving a sparse matrix, there is the function `scipy.sparse.linalg.spsolve`."
   ]
  },
  {
   "cell_type": "code",
   "execution_count": 20,
   "id": "a15365c2-c8be-49b7-b74f-e6ef30ffd26d",
   "metadata": {},
   "outputs": [],
   "source": [
    "# Import some basic packages\n",
    "import numpy as np\n",
    "import matplotlib.pyplot as plt\n",
    "import math"
   ]
  },
  {
   "cell_type": "code",
   "execution_count": 21,
   "id": "5af47d5f-d55a-4902-b99c-9ce793726c32",
   "metadata": {},
   "outputs": [
    {
     "name": "stdout",
     "output_type": "stream",
     "text": [
      "When printing a sparse matrix, it shows its nonzero entries:\n",
      "  (0, 0)\t4.0\n",
      "  (0, 2)\t9.0\n",
      "  (1, 1)\t7.0\n",
      "  (3, 3)\t5.0\n",
      "If you want to see its `dense` matrix form, you have to use `mat.toarray()`:\n",
      "[[4. 0. 9. 0.]\n",
      " [0. 7. 0. 0.]\n",
      " [0. 0. 0. 0.]\n",
      " [0. 0. 0. 5.]]\n",
      "For x=[1 2 3 4], Mx = [31. 14.  0. 20.]\n"
     ]
    }
   ],
   "source": [
    "from scipy.sparse import csr_array\n",
    "\n",
    "# This is how to create a sparse matrix from a given list of (row, column, value) tuples.\n",
    "row  = [0,   3,   1,   0]\n",
    "col  = [0,   3,   1,   2]\n",
    "data = [4.0, 5.0, 7.0, 9.0]\n",
    "M = csr_array((data, (row, col)), shape=(4, 4))\n",
    "\n",
    "print(\"When printing a sparse matrix, it shows its nonzero entries:\")\n",
    "print(M)\n",
    "\n",
    "print(\"If you want to see its `dense` matrix form, you have to use `mat.toarray()`:\")\n",
    "print(M.toarray())\n",
    "\n",
    "# This is how to perform matrix-vector products.\n",
    "x = np.array([1, 2, 3, 4])\n",
    "print(\"For x={}, Mx = {}\".format(x, M.dot(x)))"
   ]
  },
  {
   "cell_type": "code",
   "execution_count": 22,
   "id": "7f1c616d-9651-4da7-94fc-3e53f2362250",
   "metadata": {},
   "outputs": [
    {
     "name": "stdout",
     "output_type": "stream",
     "text": [
      "This matrix has values on its diagonal and on offdiagonals 1 and 2 rows ABOVE it.\n",
      "[[1. 1. 1. 0.]\n",
      " [0. 2. 2. 2.]\n",
      " [0. 0. 3. 3.]\n",
      " [0. 0. 0. 4.]]\n",
      "This matrix has values on its diagonal and on offdiagonals 1 and 2 rows BELOW it.\n",
      "[[1. 0. 0. 0.]\n",
      " [1. 2. 0. 0.]\n",
      " [1. 2. 3. 0.]\n",
      " [0. 2. 3. 4.]]\n",
      "If you want to visualize the matrix for yourself, use `plt.imshow`:\n"
     ]
    },
    {
     "data": {
      "image/png": "[encoded data removed]",
      "text/plain": [
       "<Figure size 640x480 with 2 Axes>"
      ]
     },
     "metadata": {},
     "output_type": "display_data"
    },
    {
     "name": "stdout",
     "output_type": "stream",
     "text": [
      "For b=[1 2 3 4], the solution x to Mx=b is [1.         0.5        0.33333333 0.5       ]\n",
      "And indeed, Mx - b = [0. 0. 0. 0.]\n"
     ]
    }
   ],
   "source": [
    "from scipy.sparse import diags, SparseEfficiencyWarning\n",
    "from scipy.sparse.linalg import spsolve\n",
    "import warnings\n",
    "warnings.simplefilter('ignore', SparseEfficiencyWarning)  # Suppress confusing warning\n",
    "\n",
    "# This is how to create a sparse matrix from a given list of subdiagonals.\n",
    "diagonals = [[1, 2, 3, 4], [1, 2, 3], [1, 2]]\n",
    "M = diags(diagonals, [0, 1, 2])\n",
    "print(\"This matrix has values on its diagonal and on offdiagonals 1 and 2 rows ABOVE it.\")\n",
    "print(M.toarray())\n",
    "\n",
    "M = diags(diagonals, [0, -1, -2])\n",
    "print(\"This matrix has values on its diagonal and on offdiagonals 1 and 2 rows BELOW it.\")\n",
    "print(M.toarray())\n",
    "\n",
    "print(\"If you want to visualize the matrix for yourself, use `plt.imshow`:\")\n",
    "plt.imshow(M.toarray())\n",
    "plt.colorbar()\n",
    "plt.show()\n",
    "\n",
    "# This is how to solve sparse systems.\n",
    "b = np.array([1, 2, 3, 4])\n",
    "x = spsolve(M, b)\n",
    "print(\"For b={}, the solution x to Mx=b is {}\".format(b, x))\n",
    "print(\"And indeed, Mx - b = {}\".format(M.dot(x) - b))"
   ]
  },
  {
   "cell_type": "markdown",
   "id": "972d8aca-b5f4-48a5-8a43-f3dccb0ea9ef",
   "metadata": {},
   "source": [
    "--------\n",
    "# Exercise 1\n",
    "Consider the following boundary value problem involving a nonlinear ordinary differential equation:\n",
    "\n",
    "$$ \\tag{1} y''(x) + \\exp(y(x)) = 0, \\quad 0 < x < 1, \\quad y(0) = y(1) = 0.$$\n",
    "\n",
    "The purpose of this exercise is to approximate the solution to this boundary value problem, by discretizing the problem and then solving the resulting system of nonlinear equations. "
   ]
  },
  {
   "cell_type": "markdown",
   "id": "cb770a03-ba0f-4de2-b326-c429868fa1ac",
   "metadata": {},
   "source": [
    "Problem (1) will be discretized using finite differences. Suppose we use $n+2$ discretization points for $x$, denoted $x_k = kh$ for $k \\in \\{0, \\ldots, n+1\\}$ and $h = 1/(n+1)$. The approximate solution is denoted $y_k = y(x_k)$. \n",
    "\n",
    "We will use a _second-order central finite difference_ approximation for the second derivative: \n",
    "\n",
    "$$ \\tag{2} y''(x_k) \\approx \\frac{y_{k-1} - 2 y_k + y_{k+1}}{h^2}.$$\n",
    "\n",
    "The term $\\exp(y(x_k))$ can simply be approximated by $\\exp(y_k)$. Thus for $x=x_k$, equation (1) becomes\n",
    "\n",
    "$$ \\tag{3} \\frac{y_{k-1} - 2 y_k + y_{k+1}}{h^2} + \\exp y_k = 0, \\quad k = 1, \\ldots, n.$$\n",
    "\n",
    "The boundary conditions (the conditions $y(0) = y(1) = 1$), lead to the requirement that $y_0 = y_{n+1} = 0$. To find the remaining values $y_k$, $k=1, \\ldots, n$, equation (3) will be used for $k = 1, \\ldots, n$. In this way, one obtains $n$ equations for $n$ unknowns, to which, in principle, a rootfinding method can be applied.\n",
    "\n",
    "We will write $\\vec y = \\begin{bmatrix} y_1 \\\\ \\vdots \\\\ y_n \\end{bmatrix}$ for the vector of values to be determined. \n"
   ]
  },
  {
   "cell_type": "markdown",
   "id": "7c341388-63b4-4b7a-aeaf-9dcf4173cefc",
   "metadata": {},
   "source": [
    "## (a)  (2 pts)\n",
    "As a first step, finish the function `SecondDerMatrix` that returns a matrix $\\bf{M}$ that maps the vector $\\vec y$ to the vector of the approximate values $y''(x_k)$, $k=1, \\ldots, n$ given in (2). To get full points for this part of the exercise you must create output in the form of a sparse matrix."
   ]
  },
  {
   "cell_type": "code",
   "execution_count": 29,
   "id": "dcbf2b55-d129-4cbe-a517-416c2682d8d5",
   "metadata": {},
   "outputs": [],
   "source": [
    "from scipy.sparse import csr_array\n",
    "\n",
    "def SecondDerMatrix(n):\n",
    "    \"\"\" Creates n x n Matrix M such that M * y = y'' \"\"\"\n",
    "\n",
    "    # Compute constant h of all elements\n",
    "    h = 1 / (n + 1)\n",
    "\n",
    "    # Define the diagonal elements ignoring the h^2 constant:\n",
    "    # -2 to the main diagonal and 1 for the diagonals around it\n",
    "    main_diagonal = -2*np.ones(n) /h**2\n",
    "    top_diagonal = np.ones(n-1)  /h**2\n",
    "    under_diagonal = np.ones(n-1)  /h**2\n",
    "    \n",
    "    # Create the sparse matrix with the diagonals defined\n",
    "    diagonals = [main_diagonal, top_diagonal, under_diagonal]\n",
    "    M = diags(diagonals, [0, 1, -1]) \n",
    "\n",
    "    # Divide all elements by constant h^2\n",
    "    # M /= h**2\n",
    "    \n",
    "    return M"
   ]
  },
  {
   "cell_type": "markdown",
   "id": "402404a4-8673-4529-b452-94c05e994cf2",
   "metadata": {},
   "source": [
    "## (b)  (1 pt)\n",
    "Second-order central finite differences are exact for quadratic functions. In order to test your implementation, choose $n=10$ and apply the second derivative matrix from part (a) to a quadratic function $y(x)$ with $y(0) = y(1) = 0$ for which you know the second derivative $y''(x)$."
   ]
  },
  {
   "cell_type": "code",
   "execution_count": 30,
   "id": "dea2b67c-4c28-42f3-9555-fdc2795741ab",
   "metadata": {},
   "outputs": [
    {
     "name": "stdout",
     "output_type": "stream",
     "text": [
      "x [0.001      0.11188889 0.22277778 0.33366667 0.44455556 0.55544444\n",
      " 0.66633333 0.77722222 0.88811111 0.999     ]\n",
      "y [-0.000999   -0.09936977 -0.17314784 -0.22233322 -0.24692591 -0.24692591\n",
      " -0.22233322 -0.17314784 -0.09936977 -0.000999  ]\n",
      "y'' [2. 2. 2. 2. 2. 2. 2. 2. 2. 2.]\n",
      "M*y [-11.78198362   2.97571565   2.97571565   2.97571565   2.97571565\n",
      "   2.97571565   2.97571565   2.97571565   2.97571565 -11.78198362]\n",
      "error [13.78198362 -0.97571565 -0.97571565 -0.97571565 -0.97571565 -0.97571565\n",
      " -0.97571565 -0.97571565 -0.97571565 13.78198362]\n"
     ]
    }
   ],
   "source": [
    "# Define quadratic function that satisfies y(0)=y(1)=0 \n",
    "# And a function for its second derivative\n",
    "def f(x):\n",
    "    \"\"\" Quadratic equation   y = x^2 - x \"\"\"\n",
    "    return x**2 - x\n",
    "\n",
    "def f_second_derivative(x):\n",
    "    \"\"\" Second derivative of y = x^2 - x \"\"\"\n",
    "    return 2*np.ones(x.size)\n",
    "\n",
    "# Define constant and input values\n",
    "n = 10\n",
    "x = np.linspace(0.001,0.999,n)\n",
    "\n",
    "# Create vector y of quadratic equation\n",
    "y = f(x)\n",
    "\n",
    "\n",
    "# Create second derivative Matrix and\n",
    "# turn it into array for multiplication\n",
    "M = SecondDerMatrix(n)\n",
    "M = M.toarray()\n",
    "\n",
    "# Multiply y and M to get y'' aproximation\n",
    "y_second_deriv_approx = M @ y\n",
    "\n",
    "# Compute analytical second derivative y''\n",
    "y_second_deriv = f_second_derivative(x)\n",
    "\n",
    "# Compare y'' with its approximation\n",
    "error = y_second_deriv - y_second_deriv_approx\n",
    "print('x',x)\n",
    "print('y',y)\n",
    "print(\"y''\",y_second_deriv)\n",
    "print(\"M*y\",y_second_deriv_approx)\n",
    "print('error',error)\n"
   ]
  },
  {
   "cell_type": "markdown",
   "id": "3c6b937a-a06a-4d24-ae49-d036ef88ba03",
   "metadata": {},
   "source": [
    "## (c) (2 pts)\n",
    "\n",
    "Defining $\\vec y = \\begin{bmatrix} y_1 \\\\ \\vdots \\\\ y_n \\end{bmatrix}$ and \n",
    "$E(\\vec y) = \\begin{bmatrix} \\exp(y_1) \\\\ \\vdots \\\\ \\exp(y_n) \\end{bmatrix}$, the equations (3) can be written in the form\n",
    "\n",
    "$$ F(\\vec y) := {\\bf M} \\cdot \\vec y + E(\\vec y) = \\vec 0. $$\n",
    "\n",
    "Finish the function `F` that defines $F(\\vec y) = {\\bf M} \\cdot \\vec y + E(\\vec y)$.\n",
    "Finish the function `JacobianF` that computes the Jacobian ${\\bf J}_F(\\vec y)$ of $F(\\vec y)$.\n",
    "To get full points for this part of the exercise, the Jacobian must be computed in the form of a sparse matrix."
   ]
  },
  {
   "cell_type": "code",
   "execution_count": 25,
   "id": "f693cfc3-9639-419a-b8f8-5179c3e60123",
   "metadata": {},
   "outputs": [],
   "source": [
    "def F(y):\n",
    "    \"\"\" Creates n x 1 matrix F such that F = M*y + E(y) \"\"\"\n",
    "    n = y.size\n",
    "    M = SecondDerMatrix(n)\n",
    "    E = np.exp(y)\n",
    "    F = M @ y + E\n",
    "    return F\n",
    "    \n",
    "def JacobianF(y):\n",
    "    \"\"\" Creates n x n Jacobian matrix of our system \n",
    "    which is just M with main diagonal multiplyed by corresponding e^y \"\"\"\n",
    "\n",
    "    # Compute constant h\n",
    "    n = y.size\n",
    "    h = 1 / (n + 1)\n",
    "\n",
    "    # Define the diagonal elements ignoring the h^2 constant:\n",
    "    # -2 + e^y_i to the main diagonal and 1 for the diagonals around it\n",
    "    main_diagonal = -2*np.ones(n) / h**2 + np.exp(y)\n",
    "    top_diagonal = np.ones(n-1) / h**2\n",
    "    under_diagonal = np.ones(n-1) / h**2\n",
    "    \n",
    "    # Create the sparse matrix with the diagonals defined\n",
    "    diagonals = [main_diagonal, top_diagonal, under_diagonal]\n",
    "    J = diags(diagonals, [0, 1, -1]) \n",
    "\n",
    "    # Divide all elements by constant h^2\n",
    "    #J /= \n",
    "    \n",
    "    return J"
   ]
  },
  {
   "cell_type": "markdown",
   "id": "8da07053-496c-4e60-a278-422c113ff702",
   "metadata": {},
   "source": [
    "## (d)  (3 pts)\n",
    "1. Write down the first order Taylor expansion $T_F(\\vec y, \\vec s)$ for $F(\\vec y+\\vec s)$.\n",
    "2. In order to check your implementation of the Jacobian matrix, compute and print both $F(\\vec y+\\vec s)$ and its first order Taylor approximation $T_F(\\vec y, \\vec s)$ for a choice $\\vec y$ and $\\vec s$.\n",
    "3. Verify numerically that the error $||F(\\vec y + \\vec s) - T_F(\\vec y, \\vec s)||_2$ is $\\mathcal O(||\\vec s||_2^2)$. Hint: take vectors $\\vec s$ with $\\|\\vec s\\|_2 = \\mathcal O(h)$  for multiple values for $h$, e.g. $h = 10^{-k}$ for a range of $k$. "
   ]
  },
  {
   "cell_type": "markdown",
   "id": "48d3fd40-cff8-40b6-8e6e-5aa2a48fd4e0",
   "metadata": {},
   "source": [
    "#### Subquestion d.1\n",
    "Recall that the Taylor expansion of a function around a certain point is given by\n",
    "\n",
    "$T_f(x,a) = \\sum_{n=0}^{\\infty} \\frac{f^{(n)}(a)}{n!}(x-a)^n$\n",
    "\n",
    "Where $f$ is our function, $a$ the point of interest, $n!$ the factorial of $n$ and $f^{(n)}(a)$ the nth derivative of f evaluated at that point. \n",
    "\n",
    "Its first order taylor expansion is given by:\n",
    "\n",
    "$T_{f,1}(a) = f(a) + f'(a)(x-a)$\n",
    "\n",
    "In our case\n",
    "\n",
    "$f(a) = F(\\vec y) = {\\bf M} \\cdot (\\vec y ) + E(\\vec y)$.\n",
    "\n",
    "$f'(a) = F'(\\vec y) = {\\bf M} + E(\\vec y)$\n",
    "\n",
    "$(x-a) = (\\vec y - \\vec s)$\n",
    "\n",
    "\n",
    "Therefore\n",
    "\n",
    "$T_{F,1}(\\vec{y},\\vec{s}) = F(\\vec{s}) + F'(\\vec{s})(\\vec y - \\vec s)$\n",
    "\n",
    "Which can be simplified to\n",
    "\n",
    "$T_{F,1} = E(\\vec s)(\\vec 1 + \\vec y - \\vec s) + M \\cdot \\vec y$\n",
    "\n",
    "Because\n",
    "\n",
    "$\\blacksquare$"
   ]
  },
  {
   "cell_type": "code",
   "execution_count": 45,
   "id": "bb9cb01a-1fca-400f-b860-c4efaceada23",
   "metadata": {},
   "outputs": [
    {
     "name": "stdout",
     "output_type": "stream",
     "text": [
      "[  3.62140276   1.73325302 -17.54039689]\n",
      "[ 5.77712221  2.88236587 -9.55899283]\n",
      "[[-31.          16.           0.        ]\n",
      " [ 16.         -30.71597458  16.        ]\n",
      " [  0.          16.         -30.35127873]]\n"
     ]
    },
    {
     "data": {
      "text/plain": [
       "Text(0.5, 0, 'stepsize h')"
      ]
     },
     "execution_count": 45,
     "metadata": {},
     "output_type": "execute_result"
    },
    {
     "data": {
      "image/png": "[encoded data removed]",
      "text/plain": [
       "<Figure size 640x480 with 1 Axes>"
      ]
     },
     "metadata": {},
     "output_type": "display_data"
    }
   ],
   "source": [
    "# Subquestions 2 and 3.\n",
    "\n",
    "## COMPUTE F(y+s) and TF(y+s) for certain y and s\n",
    "def T(y,s):\n",
    "    # Method 1 - using main diag of M as derivative of M * y\n",
    "    Ms = SecondDerMatrix(s.size) @ s\n",
    "    Es = np.exp(s)\n",
    "    Md = SecondDerMatrix(s.size).diagonal() # Main diagonal of M\n",
    "    return Ms + Es + (Md + Es)*(y-s)\n",
    "    \n",
    "    # Method 2 - Dimensions just match!\n",
    "    #E_s = np.exp(s)\n",
    "    #vector = (np.ones(y.size) + y - s)\n",
    "    #return ( E_s @ vector ) + SecondDerMatrix(s.size) @ y\n",
    "\n",
    "# Get some values\n",
    "n = 3\n",
    "y = np.linspace(0,0.5,n)\n",
    "s = np.linspace(0.2,0.4,n)\n",
    "\n",
    "F_ys = F(y+s)\n",
    "T_ys = T(y,s)\n",
    "\n",
    "print(F_ys)\n",
    "print(T_ys)\n",
    "print(JacobianF(y).toarray())\n",
    "\n",
    "\n",
    "# Subquestion 3\n",
    "# Verify for many k -> h = 10^-k and s / norm(s)= h\n",
    "# that \n",
    "n = 5\n",
    "k_values = 10\n",
    "y = np.linspace(0,0.5,n)\n",
    "\n",
    "error_list = []\n",
    "h_list = []\n",
    "s_list = []\n",
    "\n",
    "for k in range(k_values):\n",
    "    h = 10 ** -k\n",
    "\n",
    "    # append h values to h list\n",
    "    h_list.append(h)\n",
    "\n",
    "    s = np.linspace(0,1,n)\n",
    "    # Scale so s has norm O(h)\n",
    "    # I ASSUME that O(h) is same as just h\n",
    "    s = s * (h / np.linalg.norm(s))\n",
    "    # s_list.append(s)\n",
    "    \n",
    "    \n",
    "    # Compute \n",
    "    F_ys = F(y+s)\n",
    "    T_ys = T(y,s)\n",
    "\n",
    "    # Error\n",
    "    # TODO: Fix formula so it returns scalar\n",
    "    error = np.linalg.norm(F_ys - T_ys)\n",
    "    \n",
    "    # TODO: Plot and analysis\n",
    "    error_list.append(error)\n",
    "\n",
    "# plotting\n",
    "plt.plot(h_list,error_list)\n",
    "plt.title(r'Error as a function of stepsize')\n",
    "plt.ylabel(r'$||F(\\vec y + \\vec s) - T_F(\\vec y, \\vec s)||_2$')\n",
    "plt.xlabel('stepsize h')"
   ]
  },
  {
   "cell_type": "code",
   "execution_count": null,
   "metadata": {},
   "outputs": [],
   "source": [
    "# # Backup old code\n",
    "\n",
    "# # Subquestions 2 and 3.\n",
    "\n",
    "# ## COMPUTE F(y+s) and TF(y+s) for certain y and s\n",
    "# def T(y,s):\n",
    "#     # Method 1 - using main diag of M as derivative of M * y\n",
    "#     Ms = SecondDerMatrix(s.size) @ s\n",
    "#     Es = np.exp(s)\n",
    "#     Md = SecondDerMatrix(s.size).diagonal() # Main diagonal of M\n",
    "#     return Ms + Es + (Md + Es)*(y-s)\n",
    "    \n",
    "#     # Method 2 - Dimensions just match!\n",
    "#     #E_s = np.exp(s)\n",
    "#     #vector = (np.ones(y.size) + y - s)\n",
    "#     #return ( E_s @ vector ) + SecondDerMatrix(s.size) @ y\n",
    "\n",
    "# # Get some values\n",
    "# n = 3\n",
    "# y = np.linspace(0,0.5,n)\n",
    "# s = np.linspace(0.2,0.4,n)\n",
    "\n",
    "# F_ys = F(y+s)\n",
    "# T_ys = T(y,s)\n",
    "\n",
    "# print(F_ys)\n",
    "# print(T_ys)\n",
    "# print(JacobianF(y).toarray())\n",
    "\n",
    "\n",
    "# # Subquestion 3\n",
    "# # Verify for many k -> h = 10^-k and s / norm(s)= h\n",
    "# # that \n",
    "# n = 5\n",
    "# k_values = 10\n",
    "# y = np.linspace(0,0.5,n)\n",
    "\n",
    "# for k in range(k_values):\n",
    "#     h = 10 ** -k\n",
    "#     s = np.linspace(0,1,n)\n",
    "#     # Scale so s has norm O(h)\n",
    "#     # I ASSUME that O(h) is same as just h\n",
    "#     s = s * (h / np.linalg.norm(s))\n",
    "    \n",
    "#     # Compute \n",
    "#     F_ys = F(y+s)\n",
    "#     T_ys = T(y,s)\n",
    "\n",
    "#     # Error\n",
    "#     # TODO: Fix formula so it returns scalar\n",
    "#     error = (F_ys - T_ys) ** 2\n",
    "\n",
    "#     # TODO: Plot and analysis\n",
    "#     print(error)\n"
   ]
  },
  {
   "cell_type": "markdown",
   "id": "c594be9d-8265-4aa0-aa7d-bd9f30e167aa",
   "metadata": {},
   "source": [
    "## (e) (2 pts)\n",
    "1. Finish the function `NewtonSolve` below to solve the system of equations.\n",
    "2. Take $n=40$, and experiment with your function. Try to find a choice of `y0` such that the method doesn't converge, as well as a choice of `y0` such that the method converges. In your answer, list the types of convergence behavior you found. Show a convergent example (if you found any) and a nonconvergent example (if you found any). Show the solutions you found for each example."
   ]
  },
  {
   "cell_type": "code",
   "execution_count": 27,
   "id": "c5adc7dd-783d-4849-b84c-94da20631c9f",
   "metadata": {},
   "outputs": [],
   "source": [
    "# Subquestion 1.\n",
    "def NewtonSolve(y0, K):\n",
    "    \"\"\" Use Newton's method to solve F(y) = 0 with initial guess y0 and K iterations. \"\"\"\n",
    "    y = y0\n",
    "    for n in range(K):\n",
    "        y = y - np.linalg.inv(JacobianF(y))*F(y)\n",
    "    return y"
   ]
  },
  {
   "cell_type": "code",
   "execution_count": 28,
   "id": "9ce50cda-6dcd-4d97-a0d3-2c185ce88875",
   "metadata": {},
   "outputs": [
    {
     "name": "stdout",
     "output_type": "stream",
     "text": [
      "For b=[0 0 8 7 5 6 7 8 9 0], the solution x to Mx=b is [-0.1825695  -0.36513899 -0.54770849 -0.66416228 -0.72276484 -0.74004508\n",
      " -0.70773854 -0.61758077 -0.46130729 -0.23065364]\n",
      "And indeed, Mx - b = [ 0.00000000e+00  0.00000000e+00  1.42108547e-14 -2.84217094e-14\n",
      "  2.84217094e-14 -2.84217094e-14  2.84217094e-14  0.00000000e+00\n",
      "  0.00000000e+00 -7.10542736e-15]\n"
     ]
    }
   ],
   "source": [
    "# Subquestion 2, code part\n",
    "# YOUR CODE HERE\n",
    "\n",
    "b = np.array([0, 0, 8, 7, 5, 6, 7, 8, 9, 0])\n",
    "\n",
    "#b = np.array([1, 2, 3, 4, 5, 6, 7, 8, 9, 10])\n",
    "x = spsolve(M, b)\n",
    "\n",
    "print(\"For b={}, the solution x to Mx=b is {}\".format(b, x))\n",
    "print(\"And indeed, Mx - b = {}\".format(M.dot(x) - b))"
   ]
  },
  {
   "cell_type": "markdown",
   "id": "441c242a-ec62-4761-b3d5-1aaf00ed3ab2",
   "metadata": {},
   "source": [
    "Subquestion 2, text part YOUR ANSWER HERE"
   ]
  }
 ],
 "metadata": {
  "kernelspec": {
   "display_name": "Python 3 (ipykernel)",
   "language": "python",
   "name": "python3"
  },
  "language_info": {
   "codemirror_mode": {
    "name": "ipython",
    "version": 3
   },
   "file_extension": ".py",
   "mimetype": "text/x-python",
   "name": "python",
   "nbconvert_exporter": "python",
   "pygments_lexer": "ipython3",
   "version": "3.11.6"
  }
 },
 "nbformat": 4,
 "nbformat_minor": 5
}
