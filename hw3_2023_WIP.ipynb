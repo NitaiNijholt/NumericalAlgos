{
 "cells": [
  {
   "cell_type": "markdown",
   "id": "8adb98fb-0d56-485e-986c-8a04c70b6020",
   "metadata": {
    "nbgrader": {
     "grade": false,
     "grade_id": "cell-06d3e5bf55c941ae",
     "locked": true,
     "schema_version": 3,
     "solution": false,
     "task": false
    },
    "tags": []
   },
   "source": [
    "# Homework set 3"
   ]
  },
  {
   "cell_type": "markdown",
   "id": "f4d542f2-53a5-4571-996a-63307f888ed9",
   "metadata": {
    "nbgrader": {
     "grade": false,
     "grade_id": "cell-736ff6bc3e0d0696",
     "locked": true,
     "schema_version": 3,
     "solution": false,
     "task": false
    }
   },
   "source": [
    "Please **submit this Jupyter notebook through Canvas** no later than **Mon Nov. 20, 9:00**. **Submit the notebook file with your answers (as .ipynb file) and a pdf printout. The pdf version can be used by the teachers to provide feedback. A pdf version can be made using the save and export option in the Jupyter Lab file menu.**\n",
    "\n",
    "Homework is in **groups of two**, and you are expected to hand in original work. Work that is copied from another group will not be accepted."
   ]
  },
  {
   "cell_type": "markdown",
   "id": "5481631d-7c59-4b2f-be95-4a73568ad33c",
   "metadata": {
    "nbgrader": {
     "grade": false,
     "grade_id": "cell-b13bc5ed16bce8e0",
     "locked": true,
     "schema_version": 3,
     "solution": false,
     "task": false
    }
   },
   "source": [
    "# Exercise 0\n",
    "Write down the names + student ID of the people in your group."
   ]
  },
  {
   "cell_type": "markdown",
   "id": "de187452-d370-4a1c-bfc9-2bad40f45833",
   "metadata": {
    "nbgrader": {
     "grade": false,
     "grade_id": "cell-b5a7855ecca9f6be",
     "locked": true,
     "schema_version": 3,
     "solution": false,
     "task": false
    }
   },
   "source": [
    "Run the following cell to import NumPy and Pyplot."
   ]
  },
  {
   "cell_type": "code",
   "execution_count": 2,
   "id": "1599c119-77a5-42e3-936a-6f6515e88e35",
   "metadata": {},
   "outputs": [],
   "source": [
    "import numpy as np\n",
    "import matplotlib.pyplot as plt"
   ]
  },
  {
   "cell_type": "markdown",
   "id": "33de5356-90ed-4fea-b7e5-396c316d1d4c",
   "metadata": {},
   "source": [
    "# Exercise 1"
   ]
  },
  {
   "cell_type": "markdown",
   "id": "73f6eb1d-666c-4aa7-8969-f30895ec0c76",
   "metadata": {},
   "source": [
    "In this exercise you will study the accuracy of several methods for computing the QR decomposition. You are asked to implement these methods yourself. (However, when testing your implementation you may compare with an external implementation.)\n"
   ]
  },
  {
   "cell_type": "markdown",
   "id": "0880f0a3-e3ed-4dbd-bdc5-40ccfb753978",
   "metadata": {},
   "source": [
    "## (a) \n",
    "Implement the classical and modified Gram-Schmidt procedures for computing the QR decomposition.\n",
    "\n",
    "Include a short documentation using triple quotes: describe at least the input and the output, and whether the code modifies the input matrix.\n"
   ]
  },
  {
   "cell_type": "code",
   "execution_count": 3,
   "id": "26f5a07a-b579-46bd-af9d-3db3146a782e",
   "metadata": {},
   "outputs": [],
   "source": [
    "def classical_gram_schmidt(A:np.ndarray) -> (np.ndarray,np.ndarray) : \n",
    "    \"\"\"Returns QR decomposition of matrix A obtained by classic gram schmidt orgthonanlization procedure. \n",
    "    Q and R are returned as a tuple. Method used specified in Heath Scientific Computing: An introductory survey: 5th edition p.131\"\"\"\n",
    "    A = A.copy()\n",
    "    m, n = A.shape\n",
    "    Q = np.zeros((m, n))\n",
    "    R = np.zeros((n, n))\n",
    "    for k in range(n):\n",
    "        q = A[:, k]\n",
    "        j = 0\n",
    "        for j in range(k):\n",
    "            R[j,k] = Q[:,j].T @ A[:, k]\n",
    "            q = q - R[j,k] * Q[:,j]\n",
    "        R[k,k] = np.linalg.norm(q)\n",
    "        if R[k,k] != 0:\n",
    "            q = q/R[k,k]\n",
    "            Q[:,k] = q\n",
    "        else:\n",
    "            break\n",
    "    return Q, R\n",
    "\n",
    "    \n",
    "def modified_gram_schmidt(A):\n",
    "    \"\"\"Returns QR decomposition of matrix A obtained by classic gram schmidt orgthonanlization procedure. \n",
    "    Q and R are returned as a tuple. Method used specified in Heath Scientific Computing: An introductory survey: 5th edition p.132\"\"\"\n",
    "    A = A.copy()\n",
    "    m, n = A.shape\n",
    "    Q = np.zeros((m, n))\n",
    "    R = np.zeros((n, n))\n",
    "    for k in range(n):\n",
    "        R[k,k] = np.linalg.norm(A[:,k])\n",
    "        if R[k,k] == 0:\n",
    "            break\n",
    "        Q[:,k] = A[:, k]/R[k,k]\n",
    "        # starting at 1, to adhere to condition in Heath\n",
    "        for j in range(k+1, n):\n",
    "            R[k,j] = Q[:,k].T @ A[:, j]\n",
    "            A[:, j] = A[:, j] - R[k,j]*Q[:,k]\n",
    "    return Q, R\n",
    "\n",
    "\n"
   ]
  },
  {
   "cell_type": "markdown",
   "id": "a337d211-e9b2-4157-9d85-a3635efb3431",
   "metadata": {},
   "source": [
    "## (b) (a+b 3.5 pts)\n",
    "Let $H$ be a Hilbert matrix of size $n$ (see Computer Problem 2.6). Study the quality of the QR decompositions obtained using the two methods of part (a), specifically the loss of orthogonality. In order to do so, plot the quantity $\\| I - Q^T Q \\|$ as a function of $n$ on a log scale. Vary $n$ from $2$ to $12$.\n",
    "\n"
   ]
  },
  {
   "cell_type": "code",
   "execution_count": 4,
   "id": "cff553c1-4044-4683-9555-f8a0f741f66e",
   "metadata": {},
   "outputs": [],
   "source": [
    "def make_hilbert_matrix(n: int) -> np.ndarray:\n",
    "    \"\"\"Returns a Hilbert matrix sized n by n.\"\"\"\n",
    "    H = np.zeros((n, n))\n",
    "    for i in range(n):\n",
    "        for j in range(n):\n",
    "            H[i, j] = 1 / ((i + 1) + (j + 1) - 1)\n",
    "    return H"
   ]
  },
  {
   "cell_type": "code",
   "execution_count": 5,
   "metadata": {},
   "outputs": [
    {
     "name": "stdout",
     "output_type": "stream",
     "text": [
      "[[1.         0.5        0.33333333]\n",
      " [0.5        0.33333333 0.25      ]\n",
      " [0.33333333 0.25       0.2       ]]\n"
     ]
    }
   ],
   "source": [
    "# Testing\n",
    "H = make_hilbert_matrix(3)\n",
    "print(H)"
   ]
  },
  {
   "cell_type": "code",
   "execution_count": 6,
   "metadata": {},
   "outputs": [
    {
     "data": {
      "text/plain": [
       "array([[-0.85714286,  0.50160492,  0.11704115],\n",
       "       [-0.42857143, -0.56848557, -0.70224688],\n",
       "       [-0.28571429, -0.65208639,  0.70224688]])"
      ]
     },
     "execution_count": 6,
     "metadata": {},
     "output_type": "execute_result"
    }
   ],
   "source": [
    "# Testing against reference numpy implementation\n",
    "QR_reference = np.linalg.qr(H)[0]\n",
    "QR_reference\n"
   ]
  },
  {
   "cell_type": "code",
   "execution_count": 7,
   "metadata": {},
   "outputs": [
    {
     "data": {
      "text/plain": [
       "array([[ 0.85714286, -0.50160492,  0.11704115],\n",
       "       [ 0.42857143,  0.56848557, -0.70224688],\n",
       "       [ 0.28571429,  0.65208639,  0.70224688]])"
      ]
     },
     "execution_count": 7,
     "metadata": {},
     "output_type": "execute_result"
    }
   ],
   "source": [
    "QR_classic = classical_gram_schmidt(H)[0]\n",
    "QR_classic"
   ]
  },
  {
   "cell_type": "code",
   "execution_count": 8,
   "metadata": {},
   "outputs": [
    {
     "data": {
      "text/plain": [
       "array([[ 0.85714286, -0.50160492,  0.11704115],\n",
       "       [ 0.42857143,  0.56848557, -0.70224688],\n",
       "       [ 0.28571429,  0.65208639,  0.70224688]])"
      ]
     },
     "execution_count": 8,
     "metadata": {},
     "output_type": "execute_result"
    }
   ],
   "source": [
    "QR_classic = modified_gram_schmidt(H)[0]\n",
    "QR_classic"
   ]
  },
  {
   "cell_type": "markdown",
   "metadata": {},
   "source": [
    "Reflecting on the tests, our implementation looks fine. The only difference is the signs, which is acceptable considering a Q obtained from a QR decomposition is unique up until the signs."
   ]
  },
  {
   "cell_type": "code",
   "execution_count": 12,
   "metadata": {},
   "outputs": [
    {
     "data": {
      "image/png": "[encoded data removed]",
      "text/plain": [
       "<Figure size 640x480 with 1 Axes>"
      ]
     },
     "metadata": {},
     "output_type": "display_data"
    },
    {
     "name": "stdout",
     "output_type": "stream",
     "text": [
      "I_minus_Q_Qt_classic: [0.3999999999999988, 1.1399254501972176, 1.7886198105429398, 2.129721590748744, 2.251976073932503, 2.350148411790022, 2.4279776810939038, 2.6954767702827342, 2.911705760620351, 3.0744061132441125, 3.23481332024524]\n",
      "I_minus_Q_Qt_modified: [0.3999999999999988, 1.139925450197168, 1.7886198105569349, 2.129721574834765, 2.251975049301451, 2.318989279992654, 2.439598105889169, 2.675057220452536, 2.940845433726328, 3.1197496386100085, 3.216876407010391]\n",
      "I_minus_Q_Qt_reference: [0.4000000000000002, 1.1399254501971663, 1.7886198105569413, 2.129721574834604, 2.2519750493142703, 2.318989280008286, 2.439598096543433, 2.6750571747563803, 2.940846739801993, 3.1197327012036733, 3.2191459644672813]\n"
     ]
    }
   ],
   "source": [
    "n_range = range(2,13)\n",
    "\n",
    "# creating a list of Q matrices with our classic Gram Schmidt orthogonalization based on Hilberts matrices with increasing n\n",
    "list_of_Q_classic = []\n",
    "for n in n_range:\n",
    "    H = make_hilbert_matrix(n)\n",
    "    Q_gram_classic = classical_gram_schmidt(H)[0]\n",
    "    list_of_Q_classic.append(Q_gram_classic)\n",
    "\n",
    "# Computing ||I - QQ.T|| for Gram Schmidt classic\n",
    "I_minus_Q_Qt_classic = [np.linalg.norm(np.eye(Q.shape[0])-Q*Q.T) for Q in list_of_Q_classic]\n",
    "\n",
    "\n",
    "# creating a list of Q matrices with our modified Gram Schmidt orthogonalization based on Hilberts matrices with increasing n\n",
    "list_of_Q_modified = []\n",
    "for n in n_range:\n",
    "    H = make_hilbert_matrix(n)\n",
    "    Q_gram_modified = modified_gram_schmidt(H)[0]\n",
    "    list_of_Q_modified.append(Q_gram_modified)\n",
    "\n",
    "# Computing ||I - QQ.T|| for Gram Schmidt modified\n",
    "I_minus_Q_Qt_modified = [np.linalg.norm(np.eye(Q.shape[0])-Q*Q.T) for Q in list_of_Q_modified]\n",
    "\n",
    "# creating a list of Q matrices with numpy reference QR decomposition based on Hilberts matrices with increasing n\n",
    "list_of_Q_reference = [] \n",
    "for n in n_range:\n",
    "    H = make_hilbert_matrix(n)\n",
    "    Q_gram_reference = np.linalg.qr(H)[0]\n",
    "    list_of_Q_reference.append(Q_gram_reference)\n",
    "\n",
    "# Computing ||I - QQ.T|| for reference numpy implementation\n",
    "I_minus_Q_Qt_reference = [np.linalg.norm(np.eye(Q.shape[0])-Q*Q.T) for Q in list_of_Q_reference]\n",
    "\n",
    "# Plotting results\n",
    "plt.title('Comparing loss of orthogonality ||I - Q*Q.T|| using different QR decomposition methods')\n",
    "plt.plot(n_range,I_minus_Q_Qt_classic, c = 'orange', label = 'Classic Graham Schmidt')\n",
    "plt.plot(n_range,I_minus_Q_Qt_modified, c = 'red', label = 'Modified Graham Schmidt')\n",
    "plt.plot(n_range,I_minus_Q_Qt_reference, c = 'blue', label = 'Reference Numpy Linag QR decomposition')\n",
    "plt.yscale('log')\n",
    "plt.legend()\n",
    "plt.show()\n",
    "\n",
    "print('I_minus_Q_Qt_classic:',I_minus_Q_Qt_classic)\n",
    "print('I_minus_Q_Qt_modified:', I_minus_Q_Qt_modified)\n",
    "print('I_minus_Q_Qt_reference:', I_minus_Q_Qt_reference)\n"
   ]
  },
  {
   "cell_type": "markdown",
   "metadata": {},
   "source": [
    "The observed loss of orthogonality is tiny for each method used."
   ]
  },
  {
   "cell_type": "markdown",
   "id": "f2d6cf46-3796-405b-ab46-bc9575a5f648",
   "metadata": {},
   "source": [
    "## (c) (1.5 pts)\n",
    "Try applying the classical procedure twice. Plot again the loss of orthogonality when computing the QR decomposition of the Hilbert matrix of size $n$ as in (b).\n"
   ]
  },
  {
   "cell_type": "code",
   "execution_count": 10,
   "id": "b4574283-5b0e-4f54-a0e4-727a9246db7e",
   "metadata": {},
   "outputs": [
    {
     "data": {
      "image/png": "[encoded data removed]",
      "text/plain": [
       "<Figure size 640x480 with 1 Axes>"
      ]
     },
     "metadata": {},
     "output_type": "display_data"
    }
   ],
   "source": [
    "n_range = range(2,13)\n",
    "\n",
    "# creating a list of Q matrices with our classic Gram Schmidt orthogonalization based on Hilberts matrices with increasing n\n",
    "list_of_Q_classic_1 = []\n",
    "for n in n_range:\n",
    "    H = make_hilbert_matrix(n)\n",
    "    Q_gram_classic = classical_gram_schmidt(H)[0]\n",
    "    list_of_Q_classic.append(Q_gram_classic)\n",
    "\n",
    "# Computing ||I - QQ.T|| for Gram Schmidt classic\n",
    "I_minus_Q_Qt_classic_1 = [np.linalg.norm(np.eye(Q.shape[0])-Q*Q.T) for Q in list_of_Q_classic_1]\n",
    "\n",
    "# creating a list of Q matrices with our classic Gram Schmidt orthogonalization based on Hilberts matrices with increasing n\n",
    "list_of_Q_classic_2 = []\n",
    "for n in n_range:\n",
    "    H = make_hilbert_matrix(n)\n",
    "    Q_gram_classic = classical_gram_schmidt(H)[0]\n",
    "    list_of_Q_classic.append(Q_gram_classic)\n",
    "\n",
    "# Computing ||I - QQ.T|| for Gram Schmidt classic\n",
    "I_minus_Q_Qt_classic_2 = [np.linalg.norm(np.eye(Q.shape[0])-Q*Q.T) for Q in list_of_Q_classic_2]\n",
    "\n",
    "\n",
    "plt.plot(n_range,I_minus_Q_Qt_classic, c = 'green', label = 'Classic Graham Schmidt try 1')\n",
    "plt.plot(n_range,I_minus_Q_Qt_modified, c = 'purple', label = 'Classic Graham Schmidt try 2')\n",
    "plt.yscale('log')\n",
    "plt.legend()\n",
    "plt.show()"
   ]
  },
  {
   "cell_type": "markdown",
   "metadata": {},
   "source": [
    "We can see very slight differences in loss of orthogonality. A good next step might be to investigate to see if we find a similar level of variance in modified version of Graham Schmidt and in the numpy reference implementation."
   ]
  },
  {
   "cell_type": "markdown",
   "id": "d61d724c-3216-4742-9c8c-f411ad437193",
   "metadata": {},
   "source": [
    "## (d) (2 pts)\n",
    "Implement the Householder method for computing the QR decomposition. Remember to include a short documentation."
   ]
  },
  {
   "cell_type": "code",
   "execution_count": 11,
   "id": "a5fa9b4f-4a69-4dcf-bee4-23e67746ed06",
   "metadata": {},
   "outputs": [
    {
     "ename": "SyntaxError",
     "evalue": "incomplete input (2024703894.py, line 2)",
     "output_type": "error",
     "traceback": [
      "\u001b[1;36m  Cell \u001b[1;32mIn[11], line 2\u001b[1;36m\u001b[0m\n\u001b[1;33m    # YOUR CODE HERE\u001b[0m\n\u001b[1;37m                    ^\u001b[0m\n\u001b[1;31mSyntaxError\u001b[0m\u001b[1;31m:\u001b[0m incomplete input\n"
     ]
    }
   ],
   "source": [
    "def householder_qr(A):\n",
    "    # YOUR CODE HERE"
   ]
  },
  {
   "cell_type": "markdown",
   "id": "35df642d-7348-407a-9755-b8ac03045541",
   "metadata": {},
   "source": [
    "## (e) (2 pts)\n",
    "Perform the analysis of (b) for the Householder method. Discuss the differences between all the methods you have tested so far. Look online and/or in books for information about the accuracy of the different methods and include this in your explanations (with reference).\n"
   ]
  },
  {
   "cell_type": "code",
   "execution_count": null,
   "id": "eb790bfb-2f80-4630-aeb6-30ff0b604cc7",
   "metadata": {},
   "outputs": [],
   "source": [
    "# YOUR CODE HERE"
   ]
  },
  {
   "cell_type": "markdown",
   "id": "b59a127c-1f5f-4122-927c-20b0e90c5cb4",
   "metadata": {},
   "source": []
  },
  {
   "cell_type": "code",
   "execution_count": null,
   "id": "93b0db7a-3c04-4312-8125-58d10d80a8d5",
   "metadata": {},
   "outputs": [],
   "source": []
  }
 ],
 "metadata": {
  "kernelspec": {
   "display_name": "Python 3 (ipykernel)",
   "language": "python",
   "name": "python3"
  },
  "language_info": {
   "codemirror_mode": {
    "name": "ipython",
    "version": 3
   },
   "file_extension": ".py",
   "mimetype": "text/x-python",
   "name": "python",
   "nbconvert_exporter": "python",
   "pygments_lexer": "ipython3",
   "version": "3.11.6"
  }
 },
 "nbformat": 4,
 "nbformat_minor": 5
}
