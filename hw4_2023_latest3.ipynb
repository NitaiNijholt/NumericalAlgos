{
 "cells": [
  {
   "cell_type": "markdown",
   "id": "d4c81d3e-6c35-4c9e-9721-dc27a3d00251",
   "metadata": {
    "nbgrader": {
     "grade": false,
     "grade_id": "cell-06d3e5bf55c941ae",
     "locked": true,
     "schema_version": 3,
     "solution": false,
     "task": false
    },
    "tags": []
   },
   "source": [
    "# Homework set 4"
   ]
  },
  {
   "cell_type": "markdown",
   "id": "64728360-8bed-4d1f-bb87-bf746ea66002",
   "metadata": {
    "nbgrader": {
     "grade": false,
     "grade_id": "cell-736ff6bc3e0d0696",
     "locked": true,
     "schema_version": 3,
     "solution": false,
     "task": false
    }
   },
   "source": [
    "Before you turn this problem in, make sure everything runs as expected (in the menubar, select Kernel → Restart Kernel and Run All Cells...).\n",
    "\n",
    "Please **submit this Jupyter notebook through Canvas** no later than **Mon Nov. 27, 9:00**. **Submit the notebook file with your answers (as .ipynb file) and a pdf printout. The pdf version can be used by the teachers to provide feedback. A pdf version can be made using the save and export option in the Jupyter Lab file menu.**\n",
    "\n",
    "Homework is in **groups of two**, and you are expected to hand in original work. Work that is copied from another group will not be accepted."
   ]
  },
  {
   "cell_type": "markdown",
   "id": "d8c33491-f6d6-45df-9857-8fae1d7d446c",
   "metadata": {
    "nbgrader": {
     "grade": false,
     "grade_id": "cell-b13bc5ed16bce8e0",
     "locked": true,
     "schema_version": 3,
     "solution": false,
     "task": false
    }
   },
   "source": [
    "# Exercise 0\n",
    "Write down the names + student ID of the people in your group."
   ]
  },
  {
   "cell_type": "markdown",
   "id": "9483e0d9-7aec-4521-90ac-761fb34ee023",
   "metadata": {
    "nbgrader": {
     "grade": true,
     "grade_id": "cell-fd464f55ba436b1c",
     "locked": false,
     "points": 0,
     "schema_version": 3,
     "solution": true,
     "task": false
    }
   },
   "source": [
    "Pablo Rodriguez Alves - 15310191\n",
    "Nitai Nijholt - 12709018"
   ]
  },
  {
   "cell_type": "markdown",
   "id": "40a6166f-8dc2-4eb0-b953-961fe8f7a2ce",
   "metadata": {},
   "source": [
    "# About imports\n",
    "Please import the needed packages by yourself."
   ]
  },
  {
   "cell_type": "markdown",
   "id": "a78e262c-f192-4fe5-853b-03248173a9be",
   "metadata": {},
   "source": [
    "# Sparse matrices\n",
    "A _sparse matrix_ or _sparse array_ is a matrix in which most of the elements are zero. There is no strict definition how many elements need to be zero for a matrix to be considered sparse. In many examples, the number of nonzeros per row or column is a small fraction, a few percent or less, of the total number of elements of the row or column. By contrast, if most of the elements are nonzero, then the matrix is considered _dense_. \n",
    "\n",
    "In the context of software for scientific computing, a sparse matrix typically refers to a storage format, in which elements which are known to be zero are not stored. In Python, the library `scipy.sparse` defines several sparse matrix classes, such as `scipy.sparse.csr_array`. To construct such an object, one passes for each nonzero element the value, and the row and column coordinates. In some cases, one can also just pass the nonzero (off-)diagonals, see `scipy.sparse.diags`.\n",
    "\n",
    "Functions for dense matrices do not always work with sparse matrices. For example for the product of a sparse matrix with a (dense) vector, there is the member function `scipy.sparse.csr_array.dot`, and for solving linear equations involving a sparse matrix, there is the function `scipy.sparse.linalg.spsolve`."
   ]
  },
  {
   "cell_type": "code",
   "execution_count": 125,
   "id": "a15365c2-c8be-49b7-b74f-e6ef30ffd26d",
   "metadata": {},
   "outputs": [],
   "source": [
    "# Import some basic packages\n",
    "import numpy as np\n",
    "import matplotlib.pyplot as plt\n",
    "import math"
   ]
  },
  {
   "cell_type": "code",
   "execution_count": 126,
   "id": "5af47d5f-d55a-4902-b99c-9ce793726c32",
   "metadata": {},
   "outputs": [
    {
     "name": "stdout",
     "output_type": "stream",
     "text": [
      "When printing a sparse matrix, it shows its nonzero entries:\n",
      "  (0, 0)\t4.0\n",
      "  (0, 2)\t9.0\n",
      "  (1, 1)\t7.0\n",
      "  (3, 3)\t5.0\n",
      "If you want to see its `dense` matrix form, you have to use `mat.toarray()`:\n",
      "[[4. 0. 9. 0.]\n",
      " [0. 7. 0. 0.]\n",
      " [0. 0. 0. 0.]\n",
      " [0. 0. 0. 5.]]\n",
      "For x=[1 2 3 4], Mx = [31. 14.  0. 20.]\n"
     ]
    }
   ],
   "source": [
    "from scipy.sparse import csr_array\n",
    "\n",
    "# This is how to create a sparse matrix from a given list of (row, column, value) tuples.\n",
    "row  = [0,   3,   1,   0]\n",
    "col  = [0,   3,   1,   2]\n",
    "data = [4.0, 5.0, 7.0, 9.0]\n",
    "M = csr_array((data, (row, col)), shape=(4, 4))\n",
    "\n",
    "print(\"When printing a sparse matrix, it shows its nonzero entries:\")\n",
    "print(M)\n",
    "\n",
    "print(\"If you want to see its `dense` matrix form, you have to use `mat.toarray()`:\")\n",
    "print(M.toarray())\n",
    "\n",
    "# This is how to perform matrix-vector products.\n",
    "x = np.array([1, 2, 3, 4])\n",
    "print(\"For x={}, Mx = {}\".format(x, M.dot(x)))"
   ]
  },
  {
   "cell_type": "code",
   "execution_count": 127,
   "id": "7f1c616d-9651-4da7-94fc-3e53f2362250",
   "metadata": {},
   "outputs": [
    {
     "name": "stdout",
     "output_type": "stream",
     "text": [
      "This matrix has values on its diagonal and on offdiagonals 1 and 2 rows ABOVE it.\n",
      "[[1. 1. 1. 0.]\n",
      " [0. 2. 2. 2.]\n",
      " [0. 0. 3. 3.]\n",
      " [0. 0. 0. 4.]]\n",
      "This matrix has values on its diagonal and on offdiagonals 1 and 2 rows BELOW it.\n",
      "[[1. 0. 0. 0.]\n",
      " [1. 2. 0. 0.]\n",
      " [1. 2. 3. 0.]\n",
      " [0. 2. 3. 4.]]\n",
      "If you want to visualize the matrix for yourself, use `plt.imshow`:\n"
     ]
    },
    {
     "data": {
      "image/png": "[encoded data removed]",
      "text/plain": [
       "<Figure size 640x480 with 2 Axes>"
      ]
     },
     "metadata": {},
     "output_type": "display_data"
    },
    {
     "name": "stdout",
     "output_type": "stream",
     "text": [
      "For b=[1 2 3 4], the solution x to Mx=b is [1.         0.5        0.33333333 0.5       ]\n",
      "And indeed, Mx - b = [0. 0. 0. 0.]\n"
     ]
    }
   ],
   "source": [
    "from scipy.sparse import diags, SparseEfficiencyWarning\n",
    "from scipy.sparse.linalg import spsolve\n",
    "import warnings\n",
    "warnings.simplefilter('ignore', SparseEfficiencyWarning)  # Suppress confusing warning\n",
    "\n",
    "# This is how to create a sparse matrix from a given list of subdiagonals.\n",
    "diagonals = [[1, 2, 3, 4], [1, 2, 3], [1, 2]]\n",
    "M = diags(diagonals, [0, 1, 2])\n",
    "print(\"This matrix has values on its diagonal and on offdiagonals 1 and 2 rows ABOVE it.\")\n",
    "print(M.toarray())\n",
    "\n",
    "M = diags(diagonals, [0, -1, -2])\n",
    "print(\"This matrix has values on its diagonal and on offdiagonals 1 and 2 rows BELOW it.\")\n",
    "print(M.toarray())\n",
    "\n",
    "print(\"If you want to visualize the matrix for yourself, use `plt.imshow`:\")\n",
    "plt.imshow(M.toarray())\n",
    "plt.colorbar()\n",
    "plt.show()\n",
    "\n",
    "# This is how to solve sparse systems.\n",
    "b = np.array([1, 2, 3, 4])\n",
    "x = spsolve(M, b)\n",
    "print(\"For b={}, the solution x to Mx=b is {}\".format(b, x))\n",
    "print(\"And indeed, Mx - b = {}\".format(M.dot(x) - b))"
   ]
  },
  {
   "cell_type": "markdown",
   "id": "972d8aca-b5f4-48a5-8a43-f3dccb0ea9ef",
   "metadata": {},
   "source": [
    "--------\n",
    "# Exercise 1\n",
    "Consider the following boundary value problem involving a nonlinear ordinary differential equation:\n",
    "\n",
    "$$ \\tag{1} y''(x) + \\exp(y(x)) = 0, \\quad 0 < x < 1, \\quad y(0) = y(1) = 0.$$\n",
    "\n",
    "The purpose of this exercise is to approximate the solution to this boundary value problem, by discretizing the problem and then solving the resulting system of nonlinear equations. "
   ]
  },
  {
   "cell_type": "markdown",
   "id": "cb770a03-ba0f-4de2-b326-c429868fa1ac",
   "metadata": {},
   "source": [
    "Problem (1) will be discretized using finite differences. Suppose we use $n+2$ discretization points for $x$, denoted $x_k = kh$ for $k \\in \\{0, \\ldots, n+1\\}$ and $h = 1/(n+1)$. The approximate solution is denoted $y_k = y(x_k)$. \n",
    "\n",
    "We will use a _second-order central finite difference_ approximation for the second derivative: \n",
    "\n",
    "$$ \\tag{2} y''(x_k) \\approx \\frac{y_{k-1} - 2 y_k + y_{k+1}}{h^2}.$$\n",
    "\n",
    "The term $\\exp(y(x_k))$ can simply be approximated by $\\exp(y_k)$. Thus for $x=x_k$, equation (1) becomes\n",
    "\n",
    "$$ \\tag{3} \\frac{y_{k-1} - 2 y_k + y_{k+1}}{h^2} + \\exp y_k = 0, \\quad k = 1, \\ldots, n.$$\n",
    "\n",
    "The boundary conditions (the conditions $y(0) = y(1) = 1$), lead to the requirement that $y_0 = y_{n+1} = 0$. To find the remaining values $y_k$, $k=1, \\ldots, n$, equation (3) will be used for $k = 1, \\ldots, n$. In this way, one obtains $n$ equations for $n$ unknowns, to which, in principle, a rootfinding method can be applied.\n",
    "\n",
    "We will write $\\vec y = \\begin{bmatrix} y_1 \\\\ \\vdots \\\\ y_n \\end{bmatrix}$ for the vector of values to be determined. \n"
   ]
  },
  {
   "cell_type": "markdown",
   "id": "7c341388-63b4-4b7a-aeaf-9dcf4173cefc",
   "metadata": {},
   "source": [
    "## (a)  (2 pts)\n",
    "As a first step, finish the function `SecondDerMatrix` that returns a matrix $\\bf{M}$ that maps the vector $\\vec y$ to the vector of the approximate values $y''(x_k)$, $k=1, \\ldots, n$ given in (2). To get full points for this part of the exercise you must create output in the form of a sparse matrix."
   ]
  },
  {
   "cell_type": "code",
   "execution_count": 128,
   "id": "dcbf2b55-d129-4cbe-a517-416c2682d8d5",
   "metadata": {},
   "outputs": [],
   "source": [
    "from scipy.sparse import csr_array\n",
    "\n",
    "def SecondDerMatrix(n):\n",
    "    # We want y(x+h) y(x) and y(x-h)\n",
    "    # But we will multiply this M...\n",
    "    # Assume x = y, then...\n",
    "    # Because of 1, y(x) = ln(-y''(x))\n",
    "\n",
    "    \"\"\" Creates n x n Matrix M such that M * y = y'' \"\"\"\n",
    "\n",
    "    # Compute constant h of all elements\n",
    "    h = 1 / (n + 1)\n",
    "\n",
    "    #x_k = xk(10)\n",
    "\n",
    "    # Define the diagonal elements ignoring the h^2 constant:\n",
    "    # -2 to the main diagonal and 1 for the diagonals around it\n",
    "    main_diagonal  =  -2*np.ones(n) / (h*h)\n",
    "    top_diagonal   =  np.ones(n-1)  / (h*h)\n",
    "    under_diagonal =  np.ones(n-1)  / (h*h)\n",
    "\n",
    "    # Create the sparse matrix with the diagonals defined\n",
    "    diagonals = [main_diagonal, top_diagonal, under_diagonal]\n",
    "    M = diags(diagonals, [0, 1, -1]) \n",
    "\n",
    "    # Divide all elements by constant h^2\n",
    "    # M /= h**2\n",
    "    \n",
    "    return M\n"
   ]
  },
  {
   "cell_type": "code",
   "execution_count": 129,
   "metadata": {},
   "outputs": [
    {
     "data": {
      "text/plain": [
       "array([[-242.,  121.,    0.,    0.,    0.,    0.,    0.,    0.,    0.,\n",
       "           0.],\n",
       "       [ 121., -242.,  121.,    0.,    0.,    0.,    0.,    0.,    0.,\n",
       "           0.],\n",
       "       [   0.,  121., -242.,  121.,    0.,    0.,    0.,    0.,    0.,\n",
       "           0.],\n",
       "       [   0.,    0.,  121., -242.,  121.,    0.,    0.,    0.,    0.,\n",
       "           0.],\n",
       "       [   0.,    0.,    0.,  121., -242.,  121.,    0.,    0.,    0.,\n",
       "           0.],\n",
       "       [   0.,    0.,    0.,    0.,  121., -242.,  121.,    0.,    0.,\n",
       "           0.],\n",
       "       [   0.,    0.,    0.,    0.,    0.,  121., -242.,  121.,    0.,\n",
       "           0.],\n",
       "       [   0.,    0.,    0.,    0.,    0.,    0.,  121., -242.,  121.,\n",
       "           0.],\n",
       "       [   0.,    0.,    0.,    0.,    0.,    0.,    0.,  121., -242.,\n",
       "         121.],\n",
       "       [   0.,    0.,    0.,    0.,    0.,    0.,    0.,    0.,  121.,\n",
       "        -242.]])"
      ]
     },
     "execution_count": 129,
     "metadata": {},
     "output_type": "execute_result"
    }
   ],
   "source": [
    "SecondDerMatrix(10).toarray()"
   ]
  },
  {
   "cell_type": "markdown",
   "id": "402404a4-8673-4529-b452-94c05e994cf2",
   "metadata": {},
   "source": [
    "## (b)  (1 pt)\n",
    "Second-order central finite differences are exact for quadratic functions. In order to test your implementation, choose $n=10$ and apply the second derivative matrix from part (a) to a quadratic function $y(x)$ witçh $y(0) = y(1) = 0$ for which you know the second derivative $y''(x)$."
   ]
  },
  {
   "cell_type": "code",
   "execution_count": 130,
   "id": "dea2b67c-4c28-42f3-9555-fdc2795741ab",
   "metadata": {},
   "outputs": [
    {
     "name": "stdout",
     "output_type": "stream",
     "text": [
      "x [0.         0.11111111 0.22222222 0.33333333 0.44444444 0.55555556\n",
      " 0.66666667 0.77777778 0.88888889 1.        ]\n",
      "y [ 0.         -0.09876543 -0.17283951 -0.22222222 -0.24691358 -0.24691358\n",
      " -0.22222222 -0.17283951 -0.09876543  0.        ]\n",
      "y'' [2. 2. 2. 2. 2. 2. 2. 2. 2. 2.]\n",
      "y_heath [2. 2. 2. 2. 2. 2. 2. 2. 2. 2.]\n",
      "M*y [-11.95061728   2.98765432   2.98765432   2.98765432   2.98765432\n",
      "   2.98765432   2.98765432   2.98765432   2.98765432 -11.95061728]\n",
      "error [13.95061728 -0.98765432 -0.98765432 -0.98765432 -0.98765432 -0.98765432\n",
      " -0.98765432 -0.98765432 -0.98765432 13.95061728]\n"
     ]
    }
   ],
   "source": [
    "# Define quadratic function that satisfies y(0)=y(1)=0 \n",
    "# And a function for its second derivative\n",
    "def f(x):\n",
    "    \"\"\" Quadratic equation   y = x^2 - x \"\"\"\n",
    "    return x**2 - x\n",
    "\n",
    "def f_second_derivative(x):\n",
    "    \"\"\" Second derivative of y = x^2 - x \"\"\"\n",
    "    return 2*np.ones(x.size)\n",
    "\n",
    "def f_heath(x):\n",
    "    \"\"\" Implements second order central finite difference\n",
    "    See Heath p.365\"\"\"\n",
    "    h = 1 / (x.size + 1)\n",
    "    return ( f(x+h) - 2*f(x) + f(x-h) ) / h**2\n",
    "\n",
    "def xk(n):\n",
    "    \"\"\" Returns vector xk, that has n+2 values...\"\"\"\n",
    "    h = 1 / (n + 1)\n",
    "    return h * np.linspace(0,n+1,n+2)\n",
    "\n",
    "# Define constant and input values\n",
    "n = 10\n",
    "x = xk(n-2)\n",
    "\n",
    "y = f(x)\n",
    "\n",
    "\n",
    "def f_heath_2(x):\n",
    "    h = 1 / (x.size + 1)\n",
    "    v1 = f(x-h)\n",
    "    v2 = f(x)\n",
    "    v3 = f(x+h)\n",
    "    return (v1 - 2*v2 + v3 ) / h**2\n",
    "\n",
    "\n",
    "# Create second derivative Matrix and\n",
    "# turn it into array for multiplication\n",
    "M = SecondDerMatrix(n)\n",
    "#M = M.toarray()\n",
    "\n",
    "# Multiply y and M to get y'' aproximation\n",
    "y_second_deriv_approx = M @ y #+ np.exp(y)\n",
    "\n",
    "# Compute analytical second derivative y''\n",
    "y_second_deriv = f_second_derivative(x)\n",
    "\n",
    "# Compute exact approximation as well\n",
    "y_heath = f_heath(x)\n",
    "\n",
    "# Compare y'' with its true analytical approximation\n",
    "error = y_second_deriv - y_second_deriv_approx\n",
    "\n",
    "print('x',x)\n",
    "print('y',y)\n",
    "print(\"y''\",y_second_deriv)\n",
    "print('y_heath',y_heath)\n",
    "print(\"M*y\",y_second_deriv_approx)\n",
    "print('error',error)\n"
   ]
  },
  {
   "cell_type": "code",
   "execution_count": 131,
   "metadata": {},
   "outputs": [],
   "source": [
    "def SecondDerMatrix(n):\n",
    "    h = 1.0 / (n + 1)\n",
    "    \n",
    "    main_diag = -2 * np.ones(n)\n",
    "    sub_diag = np.ones(n - 1)\n",
    "    sup_diag = np.ones(n - 1)\n",
    "\n",
    "    M = csr_array(np.diag(main_diag) + np.diag(sub_diag, k = -1) + np.diag(sup_diag, k = 1))\n",
    "\n",
    "    M = M/ h*2\n",
    "\n",
    "    return M\n"
   ]
  },
  {
   "cell_type": "code",
   "execution_count": 132,
   "metadata": {},
   "outputs": [
    {
     "data": {
      "text/plain": [
       "array([[-44.,  22.,   0.,   0.,   0.,   0.,   0.,   0.,   0.,   0.],\n",
       "       [ 22., -44.,  22.,   0.,   0.,   0.,   0.,   0.,   0.,   0.],\n",
       "       [  0.,  22., -44.,  22.,   0.,   0.,   0.,   0.,   0.,   0.],\n",
       "       [  0.,   0.,  22., -44.,  22.,   0.,   0.,   0.,   0.,   0.],\n",
       "       [  0.,   0.,   0.,  22., -44.,  22.,   0.,   0.,   0.,   0.],\n",
       "       [  0.,   0.,   0.,   0.,  22., -44.,  22.,   0.,   0.,   0.],\n",
       "       [  0.,   0.,   0.,   0.,   0.,  22., -44.,  22.,   0.,   0.],\n",
       "       [  0.,   0.,   0.,   0.,   0.,   0.,  22., -44.,  22.,   0.],\n",
       "       [  0.,   0.,   0.,   0.,   0.,   0.,   0.,  22., -44.,  22.],\n",
       "       [  0.,   0.,   0.,   0.,   0.,   0.,   0.,   0.,  22., -44.]])"
      ]
     },
     "execution_count": 132,
     "metadata": {},
     "output_type": "execute_result"
    }
   ],
   "source": [
    "SecondDerMatrix(10).toarray()"
   ]
  },
  {
   "cell_type": "code",
   "execution_count": 133,
   "metadata": {},
   "outputs": [
    {
     "name": "stdout",
     "output_type": "stream",
     "text": [
      "Analytical solution: 2\n",
      "Numerical approximation: [0.36363636 0.36363636 0.36363636 0.36363636 0.36363636 0.36363636\n",
      " 0.36363636 0.36363636 0.36363636 0.36363636]\n"
     ]
    }
   ],
   "source": [
    "\n",
    "\n",
    "from scipy.sparse import csr_array\n",
    "\n",
    "\n",
    "\n",
    "n = 10\n",
    "M = SecondDerMatrix(n)\n",
    "\n",
    "x = np.linspace(0, 1, n + 2)\n",
    "y = x ** 2 - x\n",
    "\n",
    "second_derivative = M.dot(y[1:-1])\n",
    "\n",
    "actual_value = 2\n",
    "\n",
    "print(\"Analytical solution:\", actual_value)\n",
    "print(\"Numerical approximation:\", second_derivative)"
   ]
  },
  {
   "cell_type": "markdown",
   "id": "3c6b937a-a06a-4d24-ae49-d036ef88ba03",
   "metadata": {},
   "source": [
    "## (c) (2 pts)\n",
    "\n",
    "Defining $\\vec y = \\begin{bmatrix} y_1 \\\\ \\vdots \\\\ y_n \\end{bmatrix}$ and \n",
    "$E(\\vec y) = \\begin{bmatrix} \\exp(y_1) \\\\ \\vdots \\\\ \\exp(y_n) \\end{bmatrix}$, the equations (3) can be written in the form\n",
    "\n",
    "$$ F(\\vec y) := {\\bf M} \\cdot \\vec y + E(\\vec y) = \\vec 0. $$\n",
    "\n",
    "Finish the function `F` that defines $F(\\vec y) = {\\bf M} \\cdot \\vec y + E(\\vec y)$.\n",
    "Finish the function `JacobianF` that computes the Jacobian ${\\bf J}_F(\\vec y)$ of $F(\\vec y)$.\n",
    "To get full points for this part of the exercise, the Jacobian must be computed in the form of a sparse matrix."
   ]
  },
  {
   "cell_type": "code",
   "execution_count": 134,
   "id": "f693cfc3-9639-419a-b8f8-5179c3e60123",
   "metadata": {},
   "outputs": [],
   "source": [
    "def F(y):\n",
    "    \"\"\" Creates n x 1 matrix F such that F = M*y + E(y) \"\"\"\n",
    "    n = y.size\n",
    "    M = SecondDerMatrix(n)\n",
    "    E = np.exp(y)\n",
    "    F = M @ y + E\n",
    "    return F\n",
    "    \n",
    "def JacobianF(y):\n",
    "    \"\"\" Creates n x n Jacobian matrix of our system \n",
    "    which is just M with main diagonal multiplyed by corresponding e^y \"\"\"\n",
    "\n",
    "    # Compute constant h\n",
    "    n = y.size\n",
    "    h = 1 / (n + 1)\n",
    "\n",
    "    # Define the diagonal elements ignoring the h^2 constant:\n",
    "    # -2 + e^y_i to the main diagonal and 1 for the diagonals around it\n",
    "    main_diagonal = -2*np.ones(n) / h**2 + np.exp(y)\n",
    "    top_diagonal = np.ones(n-1) / h**2\n",
    "    under_diagonal = np.ones(n-1) / h**2\n",
    "    \n",
    "    # Create the sparse matrix with the diagonals defined\n",
    "    diagonals = [main_diagonal, top_diagonal, under_diagonal]\n",
    "    J = diags(diagonals, [0, 1, -1]) \n",
    "\n",
    "    # Divide all elements by constant h^2\n",
    "    #J /= \n",
    "    \n",
    "    return J"
   ]
  },
  {
   "cell_type": "markdown",
   "id": "8da07053-496c-4e60-a278-422c113ff702",
   "metadata": {},
   "source": [
    "## (d)  (3 pts)\n",
    "1. Write down the first order Taylor expansion $T_F(\\vec y, \\vec s)$ for $F(\\vec y+\\vec s)$.\n",
    "2. In order to check your implementation of the Jacobian matrix, compute and print both $F(\\vec y+\\vec s)$ and its first order Taylor approximation $T_F(\\vec y, \\vec s)$ for a choice $\\vec y$ and $\\vec s$.\n",
    "3. Verify numerically that the error $||F(\\vec y + \\vec s) - T_F(\\vec y, \\vec s)||_2$ is $\\mathcal O(||\\vec s||_2^2)$. Hint: take vectors $\\vec s$ with $\\|\\vec s\\|_2 = \\mathcal O(h)$  for multiple values for $h$, e.g. $h = 10^{-k}$ for a range of $k$. "
   ]
  },
  {
   "cell_type": "markdown",
   "id": "48d3fd40-cff8-40b6-8e6e-5aa2a48fd4e0",
   "metadata": {},
   "source": [
    "#### Subquestion d.1\n",
    "Recall that the Taylor expansion of a function around a certain point is given by\n",
    "\n",
    "$T_f(x,a) = \\sum_{n=0}^{\\infty} \\frac{f^{(n)}(a)}{n!}(x-a)^n$\n",
    "\n",
    "Where $f$ is our function, $a$ the point of interest, $n!$ the factorial of $n$ and $f^{(n)}(a)$ the nth derivative of f evaluated at that point. \n",
    "\n",
    "Its first order taylor expansion is given by:\n",
    "\n",
    "$T_{f,1}(a) = f(a) + f'(a)(x-a)$\n",
    "\n",
    "In our case\n",
    "\n",
    "$f(a) = F(\\vec y) = {\\bf M} \\cdot (\\vec y ) + E(\\vec y)$.\n",
    "\n",
    "$f'(a) = F'(\\vec y) = {\\bf M} + E(\\vec y)$\n",
    "\n",
    "$(x-a) = (\\vec y - \\vec s)$\n",
    "\n",
    "\n",
    "Therefore\n",
    "\n",
    "$T_{F,1}(\\vec{y},\\vec{s}) = F(\\vec{s}) + J(\\vec{s})(\\vec y - \\vec s)$\n",
    "\n",
    "<!-- Which can be simplified to\n",
    "\n",
    "$T_{F,1} = E(\\vec s)(\\vec 1 + \\vec y - \\vec s) + M \\cdot \\vec y$ -->\n",
    "\n",
    "\n",
    "$\\blacksquare$"
   ]
  },
  {
   "cell_type": "code",
   "execution_count": 135,
   "id": "bb9cb01a-1fca-400f-b860-c4efaceada23",
   "metadata": {},
   "outputs": [
    {
     "name": "stdout",
     "output_type": "stream",
     "text": [
      "y [0.   0.25 0.5 ]\n",
      "s [0.2 0.3 0.4]\n",
      "F_ys [ 2.42140276  1.73325302 -7.54039689]\n",
      "T_ys [ 5.77712221  1.28236587 -6.35899283]\n",
      "\n",
      "Jacobian:  [[-31.          16.           0.        ]\n",
      " [ 16.         -30.71597458  16.        ]\n",
      " [  0.          16.         -30.35127873]]\n",
      "\n",
      "\n",
      "error_magnitude_difference [0.7391526546272111, 1.2410058969456332, 1.019457143249156, 1.0019089230881206, 1.0001905320239437, 1.0000190496070143, 1.0000019049247546, 1.000000190492116, 1.0000000190492084]\n",
      "s_magnitude_difference [0.010000000000000004, 0.009999999999999998, 0.009999999999999998, 0.01, 0.010000000000000002, 0.009999999999999998, 0.009999999999999998, 0.010000000000000002, 0.01]\n"
     ]
    },
    {
     "data": {
      "image/png": "[encoded data removed]",
      "text/plain": [
       "<Figure size 640x480 with 1 Axes>"
      ]
     },
     "metadata": {},
     "output_type": "display_data"
    }
   ],
   "source": [
    "# Subquestions 2 and 3.\n",
    "\n",
    "## COMPUTE F(y+s) and TF(y+s) for certain y and s\n",
    "def T(y,s):\n",
    "    \"\"\"Returns the first order Taylor series of function F\"\"\"\n",
    "    return F(s) + JacobianF(s) @ (y-s)\n",
    "\n",
    "# Get some values\n",
    "n = 3\n",
    "\n",
    "y = np.linspace(0,0.5,n)\n",
    "s = np.linspace(0.2,0.4,n)\n",
    "\n",
    "F_ys = F(y+s)\n",
    "T_ys = T(y,s)\n",
    "\n",
    "print('y', y)\n",
    "print('s', s)\n",
    "print('F_ys', F_ys)\n",
    "print('T_ys', T_ys)\n",
    "print('')\n",
    "print(\"Jacobian: \", JacobianF(y).toarray())\n",
    "\n",
    "\n",
    "# Subquestion 3\n",
    "# Verify for many k -> h = 10^-k and s / norm(s)= h\n",
    "# that \n",
    "n = 5\n",
    "k_values = 10\n",
    "y = np.linspace(0,0.5,n)\n",
    "\n",
    "error_list = []\n",
    "h_list = []\n",
    "s_list = []\n",
    "\n",
    "for k in range(k_values):\n",
    "    h = 10 ** -k\n",
    "\n",
    "    # append h values to h list\n",
    "    h_list.append(h)\n",
    "\n",
    "    s = np.linspace(0,1,n)\n",
    "    # Scale so s has norm O(h)\n",
    "    # I ASSUME that O(h) is same as just h\n",
    "    s = s * (h / np.linalg.norm(s))\n",
    "    s_list.append(np.linalg.norm(s)**2)\n",
    "\n",
    "\n",
    "    \n",
    "    \n",
    "    # Compute \n",
    "    F_ys = F(y+s)\n",
    "    T_ys = T(y,s)\n",
    "\n",
    "    # Error\n",
    "    # TODO: Fix formula so it returns scalar - does now\n",
    "    error = np.linalg.norm(F_ys - T_ys)\n",
    "    \n",
    "    # TODO: Plot and analysis\n",
    "    error_list.append(error)\n",
    "\n",
    "# plotting\n",
    "plt.scatter(h_list,error_list, label=r'$||F(\\vec y + \\vec s) - T_F(\\vec y, \\vec s)||_2$')\n",
    "plt.scatter(h_list,s_list, label=r'$||(\\vec s)||_2^{2}$')\n",
    "plt.xscale('log')\n",
    "plt.title(r'First order Taylor aproximation error vs. squared magnituge of pertubation vector $\\vec s$')\n",
    "plt.ylabel(r'$||F(\\vec y + \\vec s) - T_F(\\vec y, \\vec s)||_2$')\n",
    "plt.xlabel('stepsize (h)')\n",
    "plt.legend()\n",
    "\n",
    "\n",
    "error_magnitude_difference = [ error_list[index+1]/error_list[index] for index in range(len(error_list)-1)]\n",
    "s_magnitude_difference = [ s_list[index+1]/s_list[index] for index in range(len(s_list)-1)]\n",
    "\n",
    "print('\\n')\n",
    "print('error_magnitude_difference',error_magnitude_difference)\n",
    "print('s_magnitude_difference',s_magnitude_difference)\n"
   ]
  },
  {
   "cell_type": "markdown",
   "metadata": {},
   "source": [
    "We can see that the magnituge of the error is in the same order of the magnitude of the squared magnitude of perturbation vector s squared, so the relationship $||F(\\vec y + \\vec s) - T_F(\\vec y, \\vec s)||_2$ is $\\mathcal O(||\\vec s||_2^2)$, hold. The relationship breaks down for the last two values of h (where h is close to 1) for which this difference grows exponentially.This corroborates small values of of h for this aproximation to be on the same order of magnitude."
   ]
  },
  {
   "cell_type": "code",
   "execution_count": 136,
   "metadata": {},
   "outputs": [],
   "source": [
    "# # Backup old code\n",
    "\n",
    "# # Subquestions 2 and 3.\n",
    "\n",
    "# ## COMPUTE F(y+s) and TF(y+s) for certain y and s\n",
    "# def T(y,s):\n",
    "#     # Method 1 - using main diag of M as derivative of M * y\n",
    "#     Ms = SecondDerMatrix(s.size) @ s\n",
    "#     Es = np.exp(s)\n",
    "#     Md = SecondDerMatrix(s.size).diagonal() # Main diagonal of M\n",
    "#     return Ms + Es + (Md + Es)*(y-s)\n",
    "    \n",
    "#     # Method 2 - Dimensions just match!\n",
    "#     #E_s = np.exp(s)\n",
    "#     #vector = (np.ones(y.size) + y - s)\n",
    "#     #return ( E_s @ vector ) + SecondDerMatrix(s.size) @ y\n",
    "\n",
    "# # Get some values\n",
    "# n = 3\n",
    "# y = np.linspace(0,0.5,n)\n",
    "# s = np.linspace(0.2,0.4,n)\n",
    "\n",
    "# F_ys = F(y+s)\n",
    "# T_ys = T(y,s)\n",
    "\n",
    "# print(F_ys)\n",
    "# print(T_ys)\n",
    "# print(JacobianF(y).toarray())\n",
    "\n",
    "\n",
    "# # Subquestion 3\n",
    "# # Verify for many k -> h = 10^-k and s / norm(s)= h\n",
    "# # that \n",
    "# n = 5\n",
    "# k_values = 10\n",
    "# y = np.linspace(0,0.5,n)\n",
    "\n",
    "# for k in range(k_values):\n",
    "#     h = 10 ** -k\n",
    "#     s = np.linspace(0,1,n)\n",
    "#     # Scale so s has norm O(h)\n",
    "#     # I ASSUME that O(h) is same as just h\n",
    "#     s = s * (h / np.linalg.norm(s))\n",
    "    \n",
    "#     # Compute \n",
    "#     F_ys = F(y+s)\n",
    "#     T_ys = T(y,s)\n",
    "\n",
    "#     # Error\n",
    "#     # TODO: Fix formula so it returns scalar\n",
    "#     error = (F_ys - T_ys) ** 2\n",
    "\n",
    "#     # TODO: Plot and analysis\n",
    "#     print(error)\n"
   ]
  },
  {
   "cell_type": "markdown",
   "id": "c594be9d-8265-4aa0-aa7d-bd9f30e167aa",
   "metadata": {},
   "source": [
    "## (e) (2 pts)\n",
    "1. Finish the function `NewtonSolve` below to solve the system of equations.\n",
    "2. Take $n=40$, and experiment with your function. Try to find a choice of `y0` such that the method doesn't converge, as well as a choice of `y0` such that the method converges. In your answer, list the types of convergence behavior you found. Show a convergent example (if you found any) and a nonconvergent example (if you found any). Show the solutions you found for each example."
   ]
  },
  {
   "cell_type": "code",
   "execution_count": 137,
   "id": "c5adc7dd-783d-4849-b84c-94da20631c9f",
   "metadata": {},
   "outputs": [],
   "source": [
    "# Subquestion 1.\n",
    "def NewtonSolve(y0, K):\n",
    "    \"\"\" Use Newton's method to solve F(y) = 0 with initial guess y0 and K iterations.\n",
    "    Algorithm 5.6, p.239 in Heath \"\"\"\n",
    "    \n",
    "    # Initial guess\n",
    "    y = y0\n",
    "    \n",
    "    for k in range(K):\n",
    "        # Solve Jf(xk)sk = -f(xk) for sk\n",
    "        sk = np.linalg.solve(JacobianF(y).toarray(), -F(y))\n",
    "        y = y + sk\n",
    "\n",
    "    return y\n",
    "\n",
    "\n",
    "def NewtonSolveValues(y0, K):\n",
    "    \"\"\" Use Newton's method to solve F(y) = 0 with initial guess y0 and K iterations.\n",
    "    Algorithm 5.4 in Heath \"\"\"\n",
    "    # We assume true solution is M @ y + np.exp(y)\n",
    "    \n",
    "    values = []\n",
    "    errors = []\n",
    "    M = SecondDerMatrix(y0.size)\n",
    "\n",
    "    # Initial guess\n",
    "    y = y0\n",
    "    \n",
    "    for k in range(K):\n",
    "        # Solve Jf(xk)sk = -f(xk) for sk\n",
    "        sk = np.linalg.solve(JacobianF(y).toarray(), -F(y))\n",
    "        y = y + sk\n",
    "\n",
    "        values.append(y)\n",
    "        \n",
    "        # Error metric\n",
    "        #error = np.linalg.norm(M @ y + np.exp(y))\n",
    "\n",
    "        # Heath p.221 \n",
    "        error = y - M @ y + np.exp(y)\n",
    "\n",
    "        errors.append(error)\n",
    "\n",
    "    return y,values,errors\n",
    "\n"
   ]
  },
  {
   "cell_type": "code",
   "execution_count": 139,
   "metadata": {},
   "outputs": [
    {
     "name": "stderr",
     "output_type": "stream",
     "text": [
      "C:\\Users\\nitai\\AppData\\Local\\Temp\\ipykernel_28236\\1930353620.py:40: RuntimeWarning: overflow encountered in exp\n",
      "  error = y - M @ y + np.exp(y)\n",
      "C:\\Users\\nitai\\AppData\\Local\\Temp\\ipykernel_28236\\4037575584.py:19: RuntimeWarning: overflow encountered in exp\n",
      "  main_diagonal = -2*np.ones(n) / h**2 + np.exp(y)\n",
      "C:\\Users\\nitai\\AppData\\Local\\Temp\\ipykernel_28236\\4037575584.py:5: RuntimeWarning: overflow encountered in exp\n",
      "  E = np.exp(y)\n"
     ]
    },
    {
     "name": "stdout",
     "output_type": "stream",
     "text": [
      "Number of convergences 0\n",
      "Number of non convergences 30\n"
     ]
    },
    {
     "ename": "IndexError",
     "evalue": "list index out of range",
     "output_type": "error",
     "traceback": [
      "\u001b[1;31m---------------------------------------------------------------------------\u001b[0m",
      "\u001b[1;31mIndexError\u001b[0m                                Traceback (most recent call last)",
      "\u001b[1;32mc:\\Users\\nitai\\OneDrive\\MScCLS\\NumericalAlgorithms\\NumericalAlgos\\hw4_2023_latest3.ipynb Cell 29\u001b[0m line \u001b[0;36m6\n\u001b[0;32m     <a href='vscode-notebook-cell:/c%3A/Users/nitai/OneDrive/MScCLS/NumericalAlgorithms/NumericalAlgos/hw4_2023_latest3.ipynb#X33sZmlsZQ%3D%3D?line=58'>59</a>\u001b[0m \u001b[39mprint\u001b[39m(\u001b[39m'\u001b[39m\u001b[39mNumber of non convergences\u001b[39m\u001b[39m'\u001b[39m,falses)\n\u001b[0;32m     <a href='vscode-notebook-cell:/c%3A/Users/nitai/OneDrive/MScCLS/NumericalAlgorithms/NumericalAlgos/hw4_2023_latest3.ipynb#X33sZmlsZQ%3D%3D?line=60'>61</a>\u001b[0m \u001b[39m#print(y0_convergence_values[1])\u001b[39;00m\n\u001b[0;32m     <a href='vscode-notebook-cell:/c%3A/Users/nitai/OneDrive/MScCLS/NumericalAlgorithms/NumericalAlgos/hw4_2023_latest3.ipynb#X33sZmlsZQ%3D%3D?line=61'>62</a>\u001b[0m \u001b[39m#print(y0_not_convergence_values)\u001b[39;00m\n\u001b[0;32m     <a href='vscode-notebook-cell:/c%3A/Users/nitai/OneDrive/MScCLS/NumericalAlgorithms/NumericalAlgos/hw4_2023_latest3.ipynb#X33sZmlsZQ%3D%3D?line=62'>63</a>\u001b[0m \n\u001b[0;32m     <a href='vscode-notebook-cell:/c%3A/Users/nitai/OneDrive/MScCLS/NumericalAlgorithms/NumericalAlgos/hw4_2023_latest3.ipynb#X33sZmlsZQ%3D%3D?line=63'>64</a>\u001b[0m \u001b[39m# Pick one convergence y0 and one non convergence y0\u001b[39;00m\n\u001b[1;32m---> <a href='vscode-notebook-cell:/c%3A/Users/nitai/OneDrive/MScCLS/NumericalAlgorithms/NumericalAlgos/hw4_2023_latest3.ipynb#X33sZmlsZQ%3D%3D?line=64'>65</a>\u001b[0m y0_convergence \u001b[39m=\u001b[39m y0_convergence_values[\u001b[39m0\u001b[39;49m]\n\u001b[0;32m     <a href='vscode-notebook-cell:/c%3A/Users/nitai/OneDrive/MScCLS/NumericalAlgorithms/NumericalAlgos/hw4_2023_latest3.ipynb#X33sZmlsZQ%3D%3D?line=65'>66</a>\u001b[0m y0_not_convergence \u001b[39m=\u001b[39m y0_not_convergence_values[\u001b[39m0\u001b[39m]\n\u001b[0;32m     <a href='vscode-notebook-cell:/c%3A/Users/nitai/OneDrive/MScCLS/NumericalAlgorithms/NumericalAlgos/hw4_2023_latest3.ipynb#X33sZmlsZQ%3D%3D?line=67'>68</a>\u001b[0m \u001b[39m\"\"\"\u001b[39;00m\n\u001b[0;32m     <a href='vscode-notebook-cell:/c%3A/Users/nitai/OneDrive/MScCLS/NumericalAlgorithms/NumericalAlgos/hw4_2023_latest3.ipynb#X33sZmlsZQ%3D%3D?line=68'>69</a>\u001b[0m \u001b[39m# Compute the solutions\u001b[39;00m\n\u001b[0;32m     <a href='vscode-notebook-cell:/c%3A/Users/nitai/OneDrive/MScCLS/NumericalAlgorithms/NumericalAlgos/hw4_2023_latest3.ipynb#X33sZmlsZQ%3D%3D?line=69'>70</a>\u001b[0m \u001b[39my_convergence = NewtonSolve(y0_convergence, K)\u001b[39;00m\n\u001b[1;32m   (...)\u001b[0m\n\u001b[0;32m     <a href='vscode-notebook-cell:/c%3A/Users/nitai/OneDrive/MScCLS/NumericalAlgorithms/NumericalAlgos/hw4_2023_latest3.ipynb#X33sZmlsZQ%3D%3D?line=77'>78</a>\u001b[0m \u001b[39mprint('Not convergent solution y',y_not_convergence)\u001b[39;00m\n\u001b[0;32m     <a href='vscode-notebook-cell:/c%3A/Users/nitai/OneDrive/MScCLS/NumericalAlgorithms/NumericalAlgos/hw4_2023_latest3.ipynb#X33sZmlsZQ%3D%3D?line=78'>79</a>\u001b[0m \u001b[39m\"\"\"\u001b[39;00m\n",
      "\u001b[1;31mIndexError\u001b[0m: list index out of range"
     ]
    }
   ],
   "source": [
    "# Testing\n",
    "# We want to check if convergence is linear, quadratic...\n",
    "# We need to define measure of error and save it each iteration...\n",
    "\n",
    "\n",
    "n = 40\n",
    "K = 3\n",
    "\n",
    "trues = 0\n",
    "falses = 0\n",
    "y0_convergence_values = []\n",
    "y0_convergence_values_it = []\n",
    "y0_convergence_values_errors = []\n",
    "y0_not_convergence_values = []\n",
    "y0_not_convergence_values_it = []\n",
    "y0_not_convergence_values_errors = []\n",
    "\n",
    "tries = 1000\n",
    "for i in range(tries):\n",
    "    y0 = np.random.rand(n)\n",
    "    #y0 = np.random.rand(n) * 0.1\n",
    "    y0[:2] = 0,0       \n",
    "\n",
    "    y,values,errors = NewtonSolveValues(y0, K)\n",
    "\n",
    "    # Check solution\n",
    "    # Ensure second deriv at point is close to vector of zeros\n",
    "    M = SecondDerMatrix(n)\n",
    "\n",
    "    check = M @ y + np.exp(y)\n",
    "    \n",
    "    if np.allclose(check, np.zeros(n)):\n",
    "        trues +=1\n",
    "        y0_convergence_values.append(y0)\n",
    "        y0_convergence_values_it.append(values)\n",
    "        y0_convergence_values_errors.append(errors)\n",
    "    else:\n",
    "        falses += 1\n",
    "        y0_not_convergence_values.append(y0)\n",
    "        y0_not_convergence_values_it.append(values)\n",
    "        y0_not_convergence_values_errors.append(errors)\n",
    "\n",
    "    # print(np.allclose(check, np.zeros(n)))\n",
    "    \n",
    "    # If it did not converge, give me the info!!!\n",
    "    # if not np.allclose(check, np.zeros(n)):\n",
    "    #    print('y0',y0)\n",
    "    #    print('Solution',y)\n",
    "    #    print('Check',check)\n",
    "    #    print('This did not converge!!!')\n",
    "    \n",
    "    # np.allclose(check, np.zeros(n))\n",
    "\n",
    "\n",
    "# With our seed, this gives many convergent solutions and a few non convergent ones\n",
    "# Acoording to the criteria second derivative = 0, which is np.allclose(M @ y + np.exp(y), np.zeros(n))\n",
    "\n",
    "print('Number of convergences',trues)\n",
    "print('Number of non convergences',falses)\n",
    "\n",
    "#print(y0_convergence_values[1])\n",
    "#print(y0_not_convergence_values)\n",
    "\n",
    "# Pick one convergence y0 and one non convergence y0\n",
    "y0_convergence = y0_convergence_values[0]\n",
    "y0_not_convergence = y0_not_convergence_values[0]\n",
    "\n",
    "\"\"\"\n",
    "# Compute the solutions\n",
    "y_convergence = NewtonSolve(y0_convergence, K)\n",
    "y_not_convergence = NewtonSolve(y0_not_convergence, K)\n",
    "\n",
    "# Print...\n",
    "print('Y0 that converges',y0_convergence)\n",
    "print('Convergent solution y',y_convergence)\n",
    "\n",
    "print('Y0 that does not converge',y0_not_convergence)\n",
    "print('Not convergent solution y',y_not_convergence)\n",
    "\"\"\"\n",
    "\n",
    "y1,values1,errors1 = NewtonSolveValues(y0_convergence, K)\n",
    "y2,values2,errors2 = NewtonSolveValues(y0_not_convergence, K)\n",
    "\n",
    "\n",
    "#print(y2)\n",
    "#print(values2)\n",
    "#print(errors2)\n",
    "\n",
    "\"\"\"\n",
    "iterations = np.linspace(1,K,K) # From 1 to K\n",
    "\n",
    "plt.plot(iterations,errors1,label=\"Convergence\")\n",
    "plt.plot(iterations,errors2,label=\"Non convergence\")\n",
    "\n",
    "# Line of threshold\n",
    "# Defined by https://numpy.org/doc/stable/reference/generated/numpy.allclose.html\n",
    "# absolute(a - b) <= (atol + rtol * absolute(b))\n",
    "\n",
    "tolerance = [1e-05,1e-05,1e-05]\n",
    "plt.plot(iterations,tolerance,label=\"Rel tolerance\")\n",
    "\n",
    "plt.title('Evolution of error ')\n",
    "plt.xlabel('Iterations')\n",
    "plt.ylabel('Error')\n",
    "plt.xticks(iterations)\n",
    "plt.yscale('log')\n",
    "plt.legend()\n",
    "plt.show()\n",
    "\"\"\""
   ]
  },
  {
   "cell_type": "code",
   "execution_count": null,
   "metadata": {},
   "outputs": [],
   "source": [
    "# Test convergence rate of function\n",
    "n = 10\n",
    "K = 3\n",
    "y0 = np.random.rand(n)\n",
    "y0[:2] = 0,0       \n",
    "\n",
    "y,values, errors = NewtonSolveValues(y0,K)\n",
    "\n",
    "\n",
    "errors = [np.linalg.norm(error) for error in errors]\n",
    "\n",
    "\n",
    "#print(y)\n",
    "#print(values)\n",
    "#print(errors)\n",
    "\n",
    "# Assume linear\n",
    "iterations = np.linspace(1,K,K) \n",
    "#plt.plot(iterations,errors)\n"
   ]
  },
  {
   "cell_type": "code",
   "execution_count": null,
   "metadata": {},
   "outputs": [
    {
     "name": "stdout",
     "output_type": "stream",
     "text": [
      "0.0687236569720871\n"
     ]
    }
   ],
   "source": [
    "#print(y0_convergence_values)\n",
    "#print(y0_convergence_values_it)\n",
    "#print(y0_convergence_values_errors)\n",
    "\n",
    "#y0_not_convergence_values = []\n",
    "#y0_not_convergence_values_it = []\n",
    "#y0_not_convergence_values_errors = []\n",
    "\n",
    "\n",
    "# Plot error in terms of K for a conv. and non conv. examples\n",
    "y_conv,values_conv,error_conv = y0_convergence_values[0],y0_convergence_values_it[0],y0_convergence_values_errors[0]\n",
    "#y_no_conv,values_no_conv,error_no_conv = y0_not_convergence_values[0],y0_not_convergence_values_it[0],y0_not_convergence_values_errors[0]\n",
    "\n",
    "# Get the ratios from subsequent iterations as in heath p.222\n",
    "\n",
    "# First fix r\n",
    "r = 2 \n",
    "\n",
    "# That gives us C\n",
    "C = np.linalg.norm(error_conv[-1]) / np.linalg.norm(error_conv[-2])**r\n",
    "\n",
    "# Because its bigger than 0, we have quadratic convergence\n",
    "print(C)\n",
    "\n"
   ]
  },
  {
   "cell_type": "code",
   "execution_count": null,
   "metadata": {},
   "outputs": [
    {
     "name": "stdout",
     "output_type": "stream",
     "text": [
      "[13.084227219003123, 14.552833623439502, 14.554637387633111]\n"
     ]
    },
    {
     "ename": "NameError",
     "evalue": "name 'error_no_conv' is not defined",
     "output_type": "error",
     "traceback": [
      "\u001b[1;31m---------------------------------------------------------------------------\u001b[0m",
      "\u001b[1;31mNameError\u001b[0m                                 Traceback (most recent call last)",
      "\u001b[1;32mc:\\Users\\nitai\\OneDrive\\MScCLS\\NumericalAlgorithms\\NumericalAlgos\\hw4_2023_latest3.ipynb Cell 28\u001b[0m line \u001b[0;36m9\n\u001b[0;32m      <a href='vscode-notebook-cell:/c%3A/Users/nitai/OneDrive/MScCLS/NumericalAlgorithms/NumericalAlgos/hw4_2023_latest3.ipynb#X36sZmlsZQ%3D%3D?line=6'>7</a>\u001b[0m plt\u001b[39m.\u001b[39mtitle(\u001b[39m'\u001b[39m\u001b[39mError evolution in terms of iterations\u001b[39m\u001b[39m'\u001b[39m)\n\u001b[0;32m      <a href='vscode-notebook-cell:/c%3A/Users/nitai/OneDrive/MScCLS/NumericalAlgorithms/NumericalAlgos/hw4_2023_latest3.ipynb#X36sZmlsZQ%3D%3D?line=7'>8</a>\u001b[0m plt\u001b[39m.\u001b[39mplot(\u001b[39mrange\u001b[39m(K),error_conv,label\u001b[39m=\u001b[39m\u001b[39m'\u001b[39m\u001b[39mconvergence\u001b[39m\u001b[39m'\u001b[39m)\n\u001b[1;32m----> <a href='vscode-notebook-cell:/c%3A/Users/nitai/OneDrive/MScCLS/NumericalAlgorithms/NumericalAlgos/hw4_2023_latest3.ipynb#X36sZmlsZQ%3D%3D?line=8'>9</a>\u001b[0m plt\u001b[39m.\u001b[39mplot(\u001b[39mrange\u001b[39m(K),error_no_conv,label\u001b[39m=\u001b[39m\u001b[39m'\u001b[39m\u001b[39mnon convergence\u001b[39m\u001b[39m'\u001b[39m)\n\u001b[0;32m     <a href='vscode-notebook-cell:/c%3A/Users/nitai/OneDrive/MScCLS/NumericalAlgorithms/NumericalAlgos/hw4_2023_latest3.ipynb#X36sZmlsZQ%3D%3D?line=9'>10</a>\u001b[0m \u001b[39m#plt.plot(K,error_no_conv)\u001b[39;00m\n\u001b[0;32m     <a href='vscode-notebook-cell:/c%3A/Users/nitai/OneDrive/MScCLS/NumericalAlgorithms/NumericalAlgos/hw4_2023_latest3.ipynb#X36sZmlsZQ%3D%3D?line=10'>11</a>\u001b[0m plt\u001b[39m.\u001b[39mlegend()\n",
      "\u001b[1;31mNameError\u001b[0m: name 'error_no_conv' is not defined"
     ]
    },
    {
     "data": {
      "image/png": "[encoded data removed]",
      "text/plain": [
       "<Figure size 640x480 with 1 Axes>"
      ]
     },
     "metadata": {},
     "output_type": "display_data"
    }
   ],
   "source": [
    "error_conv = [np.linalg.norm(i) for i in error_conv]\n",
    "#error_no_conv = [np.linalg.norm(i) for i in error_no_conv]\n",
    "\n",
    "\n",
    "print(error_conv)\n",
    "\n",
    "plt.title('Error evolution in terms of iterations')\n",
    "plt.plot(range(K),error_conv,label='convergence')\n",
    "plt.plot(range(K),error_no_conv,label='non convergence')\n",
    "#plt.plot(K,error_no_conv)\n",
    "plt.legend()\n",
    "plt.show()\n"
   ]
  },
  {
   "cell_type": "markdown",
   "id": "441c242a-ec62-4761-b3d5-1aaf00ed3ab2",
   "metadata": {},
   "source": [
    "Convergence is quadratic for convengent values of y0"
   ]
  },
  {
   "cell_type": "markdown",
   "metadata": {},
   "source": []
  }
 ],
 "metadata": {
  "kernelspec": {
   "display_name": "Python 3 (ipykernel)",
   "language": "python",
   "name": "python3"
  },
  "language_info": {
   "codemirror_mode": {
    "name": "ipython",
    "version": 3
   },
   "file_extension": ".py",
   "mimetype": "text/x-python",
   "name": "python",
   "nbconvert_exporter": "python",
   "pygments_lexer": "ipython3",
   "version": "3.11.6"
  }
 },
 "nbformat": 4,
 "nbformat_minor": 5
}
