{
 "cells": [
  {
   "cell_type": "markdown",
   "id": "bca33f70-0324-4594-8998-08352cc65c9d",
   "metadata": {
    "nbgrader": {
     "grade": false,
     "grade_id": "cell-06d3e5bf55c941ae",
     "locked": true,
     "schema_version": 3,
     "solution": false,
     "task": false
    }
   },
   "source": [
    "# Homework set 2"
   ]
  },
  {
   "cell_type": "markdown",
   "id": "a085ff85-5f47-4d16-b0bb-5adf07e3e503",
   "metadata": {
    "nbgrader": {
     "grade": false,
     "grade_id": "cell-736ff6bc3e0d0696",
     "locked": true,
     "schema_version": 3,
     "solution": false,
     "task": false
    }
   },
   "source": [
    "Please **submit this Jupyter notebook through Canvas** no later than **Mon Nov. 13, 9:00**. **Submit the notebook file with your answers (as .ipynb file) and a pdf printout. The pdf version can be used by the teachers to provide feedback. A pdf version can be made using the save and export option in the Jupyter Lab file menu.**\n",
    "\n",
    "Homework is in **groups of two**, and you are expected to hand in original work. Work that is copied from another group will not be accepted."
   ]
  },
  {
   "cell_type": "markdown",
   "id": "bfc44ed9-3b17-4f38-94fe-0f4d709ed1d6",
   "metadata": {
    "nbgrader": {
     "grade": false,
     "grade_id": "cell-b13bc5ed16bce8e0",
     "locked": true,
     "schema_version": 3,
     "solution": false,
     "task": false
    }
   },
   "source": [
    "# Exercise 0\n",
    "Write down the names + student ID of the people in your group."
   ]
  },
  {
   "cell_type": "markdown",
   "id": "f3075893-8ccd-4cab-b8a0-741c30648ebe",
   "metadata": {
    "nbgrader": {
     "grade": true,
     "grade_id": "cell-fd464f55ba436b1c",
     "locked": false,
     "points": 0,
     "schema_version": 3,
     "solution": true,
     "task": false
    }
   },
   "source": [
    "**Pablo Alves** - 15310191\n",
    "**Nitai Nijholt** - 12709018"
   ]
  },
  {
   "cell_type": "markdown",
   "id": "71d93788-1857-48f1-bfff-8cf004cf1a5d",
   "metadata": {},
   "source": [
    "## Importing packages\n",
    "Execute the following statement to import the packages `numpy`, `math` and `scipy.sparse`. If additional packages are needed, import them yourself."
   ]
  },
  {
   "cell_type": "code",
   "execution_count": 15,
   "id": "0c56160e-301a-4888-b439-a45bc02b8171",
   "metadata": {},
   "outputs": [],
   "source": [
    "import math\n",
    "import numpy as np\n",
    "import scipy.sparse as sp\n",
    "from scipy.linalg import lu_factor, lu_solve"
   ]
  },
  {
   "cell_type": "markdown",
   "id": "967cec69-1602-4c3c-9bff-871eabca2c8b",
   "metadata": {
    "tags": []
   },
   "source": [
    "# Sparse matrices"
   ]
  },
  {
   "cell_type": "markdown",
   "id": "651b9158-f983-4dd6-a478-2dd0456961ca",
   "metadata": {},
   "source": [
    "A matrix is called sparse if only a small fraction of the entries is nonzero. For such matrices, special data formats exist. `scipy.sparse` is the scipy package that implements such data formats and provides functionality such as the LU decomposition (in the subpackage `scipy.sparse.linalg`).\n",
    "\n",
    "As an example, we create the matrix \n",
    "$$\\begin{bmatrix}\n",
    "1 & 0 & 2 & 0 \\\\ \n",
    "0 & 3 & 0 & 0 \\\\\n",
    "0 & 0 & 4 & 5 \\\\\n",
    "0 & 0 & 0 & 6 \\end{bmatrix}$$ in the so called compressed sparse row (CSR) format. As you can see, the arrays `row`, `col`, `data` contain the row and column coordinate and the value of each nonzero element respectively."
   ]
  },
  {
   "cell_type": "code",
   "execution_count": 14,
   "id": "d9090c65-724c-4bfc-a19c-85cd7314ca06",
   "metadata": {},
   "outputs": [
    {
     "name": "stdout",
     "output_type": "stream",
     "text": [
      "[[1. 0. 2. 0.]\n",
      " [0. 3. 0. 0.]\n",
      " [0. 0. 4. 5.]\n",
      " [0. 0. 0. 6.]]\n"
     ]
    }
   ],
   "source": [
    "# a sparse matrix with 6 nonzero entries\n",
    "row = np.array([0, 0, 1, 2, 2, 3])\n",
    "col = np.array([0, 2, 1, 2, 3, 3])\n",
    "data = np.array([1.0, 2, 3, 4, 5, 6])\n",
    "sparseA = sp.csr_array((data, (row, col)), shape=(4, 4))\n",
    "\n",
    "# convert to a dense matrix. This allows us to print to screen in regular formatting\n",
    "denseA = sparseA.toarray()\n",
    "print(denseA)\n"
   ]
  },
  {
   "cell_type": "markdown",
   "id": "7bcb2618-8ec2-4cd2-86b3-786946719c20",
   "metadata": {},
   "source": [
    "For sparse matrices, a sparse data format is much more efficient in terms of storage than the standard array format. Because of this efficient storage, very large matrices of size $n \\times n$ with $n = 10^7$ or more can be stored in RAM for performing computations on regular computers. Often the number of nonzero elements per row is quite small, such as 10's or 100's nonzero elements per row. In a regular, dense format, such matrices would require a supercomputer or could not be stored.\n",
    "\n",
    "In the second exercise you have to use the package `scipy.sparse`, please look up the functions you need (or ask during class)."
   ]
  },
  {
   "cell_type": "markdown",
   "id": "485a0788-7ac3-41e5-afbb-2957220c6a2a",
   "metadata": {},
   "source": [
    "# Heath computer exercise 2.1"
   ]
  },
  {
   "cell_type": "markdown",
   "id": "d40e9755-32ad-42e6-bd4a-9066e36cf4f9",
   "metadata": {},
   "source": [
    "## (a)\n",
    "Show that the matrix\n",
    "$$ A = \\begin{bmatrix} \n",
    "0.1 & 0.2 & 0.3 \\\\\n",
    "0.4 & 0.5 & 0.6 \\\\\n",
    "0.7 & 0.8 & 0.9\n",
    "\\end{bmatrix}.$$\n",
    "is singular. Describe the set of solutions to the system $A x = b$ if\n",
    "$$ b = \\begin{bmatrix} 0.1 \\\\ 0.3 \\\\ 0.5 \\end{bmatrix}. $$\n",
    "(N.B. this is a pen-and-paper question.)\n"
   ]
  },
  {
   "cell_type": "markdown",
   "id": "044019bb-6f29-446c-8cf4-a65c7033cf6c",
   "metadata": {},
   "source": [
    "#### (a.i) Showing A is singular\n",
    "It will suffice to show that $det(A) = 0$. \n",
    "\n",
    "\n",
    "By simple inspection we see that $R_3 = 2 \\cdot R_2 - R_1$. \n",
    "\n",
    "Because the third row of $A$ is a linear combination of the previous two rows, this in turn implies $det(A) = 0$ \n",
    "\n",
    "Which in turns determines that $A$ is singular. \n",
    "\n",
    "$\\blacksquare$\n",
    "\n",
    "#### (a.ii) Describing the set of solutions\n",
    "Observing the $Ax=b$ system we want to solve, we notice that we can first simplify it.\n",
    "\n",
    "Taking the common term $1/10$ out of both $A$ and $b$ and cancelling it, we are then left with:\n",
    "\n",
    "$ \\begin{pmatrix}\n",
    "1 & 2 & 3 \\\\\n",
    "4 & 5 & 6 \\\\\n",
    "7 & 8 & 9 \n",
    "\\end{pmatrix}  \n",
    "$\n",
    "$ * $\n",
    "$ \\begin{pmatrix}\n",
    "x \\\\\n",
    "y \\\\\n",
    "z \n",
    "\\end{pmatrix} \n",
    "$\n",
    "$ = $\n",
    "$ \\begin{pmatrix}\n",
    "1 \\\\\n",
    "3 \\\\\n",
    "5 \n",
    "\\end{pmatrix} \n",
    "$\n",
    "\n",
    "Giving rise to equations:\n",
    "\n",
    "$x + 2y + 3z = 1$\n",
    "\n",
    "$4x + 5y + 6z = 3$\n",
    "\n",
    "$7x + 8y + 9z = 5$.\n",
    "\n",
    "Solving for $x$ in first equation yields $x=1-2y-3z$\n",
    "\n",
    "Substituting this in the second equation yields $3y+6z=1$\n",
    "\n",
    "Which yields $y=-(6z-1)/3$\n",
    "\n",
    "Substituting $y$ back in the $x$ equation yields $ x = 1 - 3z + 4z - 1/3 $\n",
    "\n",
    "Which yields $x= -9z + 5/3$\n",
    "\n",
    "Therefore our infinite solutions will be of the form:\n",
    "\n",
    "$x= -9z + 5/3$\n",
    "\n",
    "$y=-(6z-1)/3$\n",
    "\n",
    "$z = z$\n",
    "\n",
    "$\\blacksquare$"
   ]
  },
  {
   "cell_type": "markdown",
   "id": "14074eea-48d7-49e6-81b1-5fadeaeec111",
   "metadata": {},
   "source": [
    "## (b)\n",
    "If we were to use Gaussian elimination with partial pivoting to solve this system using exact arithmetic, at what point would the process fail?\n"
   ]
  },
  {
   "cell_type": "markdown",
   "id": "05aa07a1-da53-4f43-bad8-8be6c55e0c39",
   "metadata": {},
   "source": [
    "#### (b) Answer \n",
    "Let\n",
    "\n",
    "$ A' = (A|b) =\n",
    "\\begin{pmatrix}\n",
    "1 & 2 & 3 & 1 \\\\\n",
    "4 & 5 & 6 & 3 \\\\\n",
    "7 & 8 & 9 & 5\n",
    "\\end{pmatrix}  \n",
    "$\n",
    "\n",
    "We first try to create a zero at element $a'_{21} = 4$\n",
    "\n",
    "For this we compute $R_2 \\leftarrow R_3/2 + R_1/2 = (R_3 + R_1)/2$\n",
    "\n",
    "Yielding:\n",
    "\n",
    "$ A' = \\begin{pmatrix}\n",
    "1 & 2 & 3 & 1 \\\\\n",
    "0 & 0 & 0 & 0 \\\\\n",
    "7 & 8 & 9 & 5\n",
    "\\end{pmatrix}  \n",
    "$\n",
    "\n",
    "We then try to create a zero at element $a'_{31} = 7$\n",
    "\n",
    "For this we compute $R_3 \\leftarrow R_3 - 7 \\cdot R_1$\n",
    "\n",
    "Yielding:\n",
    "\n",
    "$ A' = \\begin{pmatrix}\n",
    "1 & 2 & 3 & 1 \\\\\n",
    "0 & 0 & 0 & 0 \\\\\n",
    "0 & -6 & -12 & -2\n",
    "\\end{pmatrix}  \n",
    "$\n",
    "\n",
    "Our next element is $a'_{32} = -6$\n",
    "\n",
    "However, the process fails here, as it is not possible to create a zero in this position.\n",
    "\n",
    " $\\blacksquare$"
   ]
  },
  {
   "cell_type": "markdown",
   "id": "85c1ae38-f504-47eb-a1d6-eec193e32878",
   "metadata": {},
   "source": [
    "## (c)\n",
    "Because some of the entries of $A$ are not exactly representable in a binary floating point system, the matrix is no longer exactly singular when entered into a computer; thus, solving the system by Gaussian elimination will not necessarily fail. Solve this system on a computer using a library routine for Gaussian elimination. Compare the computed solution with your description of the solution set in part (a). What is the estimated value for $\\text{cond}(A)$? How many digits of accuracy in the solution would this lead you to expect?"
   ]
  },
  {
   "cell_type": "markdown",
   "metadata": {},
   "source": [
    "#### (c.i) Solve the system with a library routine for Gaussian elimination"
   ]
  },
  {
   "cell_type": "code",
   "execution_count": 34,
   "id": "1d6808a3-aecd-4ebe-aa79-5ddcbff09c17",
   "metadata": {},
   "outputs": [
    {
     "name": "stdout",
     "output_type": "stream",
     "text": [
      "A: [[0.1 0.2 0.3]\n",
      " [0.4 0.5 0.6]\n",
      " [0.7 0.8 0.9]]\n",
      "b [0.1 0.3 0.5]\n",
      "LU [[7.00000000e-01 8.00000000e-01 9.00000000e-01]\n",
      " [1.42857143e-01 8.57142857e-02 1.71428571e-01]\n",
      " [5.71428571e-01 5.00000000e-01 1.11022302e-16]]\n",
      "piv [2 2 2]\n",
      "x [ 0.16145833  0.67708333 -0.171875  ]\n",
      "Condition number: 2.1118968335779856e+16\n"
     ]
    }
   ],
   "source": [
    "# Define A and b\n",
    "A = np.array([[0.1,0.2,0.3],[0.4,0.5,0.6],[0.7,0.8,0.9]])\n",
    "b = np.array([0.1,0.3,0.5])\n",
    "\n",
    "# Compute LU decomposition\n",
    "lu, piv = lu_factor(A)\n",
    "\n",
    "# Solve the system\n",
    "x = lu_solve((lu, piv), b)\n",
    "\n",
    "# Estimate cond(A)\n",
    "cond_number = np.linalg.cond(A)\n",
    "\n",
    "# Print results\n",
    "print('A:',  A)\n",
    "print('b',   b)\n",
    "print('LU',  lu)\n",
    "print('piv', piv)\n",
    "print('x',   x)\n",
    "print('Condition number:', cond_number)"
   ]
  },
  {
   "cell_type": "markdown",
   "id": "32537b21-ef0e-4d21-83ec-630d7c6ef4ac",
   "metadata": {},
   "source": [
    "#### (c.ii) Compare the computed solution with your description of the solution set in part (a). \n",
    "Unlike the solution obtained in part (a), the compution performed yields a unique solution for $x$, which is mathematically inaccurate.\n",
    "\n",
    "#### (c.iii) What is the estimated value for $\\text{cond}(A)$? \n",
    "\n",
    "The estimated value is $2.1118968335779856 \\cdot 10^{16}$\n",
    "\n",
    "#### (c.iv) How many digits of accuracy in the solution would this lead you to expect?\n",
    "\n",
    "In our case, because the exponent in our condition number is 16, we are expect to loose at least up to 16 digits of accuracy in our result [1]\n",
    "\n",
    "Because the solution values in $x$ are small (within $-1$ and $1$), this renders our result basically useless in terms of accuracy.\n",
    "\n",
    "Intuitively, our condition number reflects the fact that the output $x$ values of the system vary greatly to a small change in the input matrix $A$,\n",
    "\n",
    "which is an unexpected behavior for a simple system like this one which is computed assuming a unique solution for $x$.\n",
    "\n",
    "Thus, the huge condition number is serving as a cuantitative proxy for the qualitative fact that our system does not actually have a unique solution.\n",
    "\n",
    "In short, this example illustrates the importance of analyzing the results of our computations and how the condition number can be used as an indicator in systems of linear equations.\n",
    "\n",
    "[1] Fore a detailed explanation of the underlying math, see https://math.stackexchange.com/questions/2392992/matrix-condition-number-and-loss-of-accuracy\n",
    "\n",
    "#### (c.v) EXTRA: Solving the system after simplifying it first\n",
    "\n",
    "We will illustrate this point further by repeating the previous computation on the equivalent system that results from first simplifying the $1/10$ term, as done in part (a)"
   ]
  },
  {
   "cell_type": "code",
   "execution_count": 32,
   "metadata": {},
   "outputs": [
    {
     "name": "stdout",
     "output_type": "stream",
     "text": [
      "Results when simplifying A and b first:\n",
      "A: [[1. 2. 3.]\n",
      " [4. 5. 6.]\n",
      " [7. 8. 9.]]\n",
      "b [1. 3. 5.]\n",
      "LU [[7.         8.         9.        ]\n",
      " [0.14285714 0.85714286 1.71428571]\n",
      " [0.57142857 0.5        0.        ]]\n",
      "piv [2 2 2]\n",
      "x [ nan -inf  inf]\n",
      "Condition number: 3.813147060626918e+16\n"
     ]
    },
    {
     "name": "stderr",
     "output_type": "stream",
     "text": [
      "C:\\Users\\Pablo\\AppData\\Local\\Temp\\ipykernel_17404\\132216981.py:8: LinAlgWarning: Diagonal number 3 is exactly zero. Singular matrix.\n",
      "  lu, piv = lu_factor(A)\n"
     ]
    }
   ],
   "source": [
    "print('Results when simplifying A and b first:')\n",
    "\n",
    "# Define A and b\n",
    "A = 10*np.array([[0.1,0.2,0.3],[0.4,0.5,0.6],[0.7,0.8,0.9]])\n",
    "b = 10*np.array([0.1,0.3,0.5])\n",
    "\n",
    "# Compute LU decomposition\n",
    "lu, piv = lu_factor(A)\n",
    "\n",
    "# Solve the system\n",
    "x = lu_solve((lu, piv), b)\n",
    "\n",
    "# Estimate cond(A)\n",
    "cond_number = np.linalg.cond(A)\n",
    "\n",
    "# Print results\n",
    "print('A:',  A)\n",
    "print('b',   b)\n",
    "print('LU',  lu)\n",
    "print('piv', piv)\n",
    "print('x',   x)\n",
    "print('Condition number:', cond_number)"
   ]
  },
  {
   "cell_type": "markdown",
   "metadata": {},
   "source": [
    "In this case, and unlike with the previous computation, the library used now gives a warning when printing the solution, \n",
    "\n",
    "indicating that our original matrix $A$ was singular, which is consistent with our previous results.\n",
    "\n",
    "In particular, when solving the system, the *diagonal number 3 [of the matrix] is exactly zero.*, \n",
    "\n",
    "because now the elements in $A$ and $b$ of our equivalent system are not loosing accuracy due to approximations arising due to their storing in the computer.\n",
    "\n",
    "This additional computation we perfomed highlights that:\n",
    "\n",
    "1. Quantitative innacuracies of the storing method of decimal numbers can give rise to qualitative innacuracies in the results,\n",
    "\n",
    "2. Mathematically equivalent systems can give rise to different computations,\n",
    "\n",
    "3. Using a mathematically equivalent system can simplify result interpretation of limit cases, and that\n",
    "\n",
    "4. Understanding the interplay between the mathematical model and its computation is important to properly evaluate the accuracy of its results"
   ]
  },
  {
   "cell_type": "markdown",
   "id": "46c99b9d-1ab5-49ae-9fa9-805bb984e4a5",
   "metadata": {},
   "source": [
    "# Heath computer exercise 2.17"
   ]
  },
  {
   "cell_type": "markdown",
   "id": "aad5ecf6-4902-4e39-af7c-20fae6a41eb5",
   "metadata": {},
   "source": [
    "Consider a horizontal cantilevered beam that is clamped at one end but free along the remainder of its length. A discrete model of the forces on the beam yields a system of linear equations $A x = b$, where the $n \\times n$ matrix $A$ has the banded form\n",
    "$$\n",
    "\\begin{bmatrix}\n",
    " 9 & -4     &  1 &  0 & \\ldots & \\ldots & 0 \\\\\n",
    "-4 &  6     & -4 &  1 & \\ddots && \\vdots \\\\\n",
    " 1 & -4     &  6 & -4 &  1 & \\ddots & \\vdots \\\\\n",
    " 0 & \\ddots & \\ddots & \\ddots & \\ddots & \\ddots & 0 \\\\\n",
    " \\vdots & \\ddots & 1 & -4 &  6 & -4 &  1 \\\\ \n",
    " \\vdots && \\ddots    &  1 & -4 &  5 & -2 \\\\\n",
    " 0 & \\ldots & \\ldots & 0 & 1 & -2 & 1 \n",
    "\\end{bmatrix}, $$\n",
    "the $n$-vector $b$ is the known load on the bar (including its own weight), and the $n$-vector $x$ represents the resulting deflection of the bar that is to be determined. We will take the bar to be uniformly loaded, with $b_i = 1/n^4$ for each component of the load vector.\n"
   ]
  },
  {
   "cell_type": "markdown",
   "id": "0c3221df-1706-4536-9d13-900af379a450",
   "metadata": {},
   "source": [
    "## (a)\n",
    "Make a python function that creates the matrix $A$ given the size $n$."
   ]
  },
  {
   "cell_type": "code",
   "execution_count": 4,
   "id": "c9753d31-5888-4de1-8ebe-39b55f413932",
   "metadata": {},
   "outputs": [],
   "source": [
    "# your code here"
   ]
  },
  {
   "cell_type": "markdown",
   "id": "3a7511aa-c209-4803-96a4-6743b5f52626",
   "metadata": {},
   "source": [
    "## (b)\n",
    "\n",
    "Solve this linear system using both a standard library routine for dense linear systems and a library routine designed for sparse linear systems. Take $n=100$ and $n=1000$. How do the two routines compare in the time required to compute the solution? And in the memory occupied by the LU decomposition? (Hint: as part of this assignment, look for the number of nonzero elements in the matrices $L$ and $U$ of the sparse LU decomposition.)"
   ]
  },
  {
   "cell_type": "code",
   "execution_count": 5,
   "id": "7e2da1b5-74b5-4490-b590-9604040c8aba",
   "metadata": {},
   "outputs": [],
   "source": [
    "# your code here"
   ]
  },
  {
   "cell_type": "markdown",
   "id": "9decc62c-feb5-4afb-bfba-0b8a19af5be3",
   "metadata": {},
   "source": [
    "your answer (text) here"
   ]
  },
  {
   "cell_type": "markdown",
   "id": "8ebb2590-2f08-4362-aef6-f334eedbf306",
   "metadata": {},
   "source": [
    "## (c)\n",
    "For $n=100$, what is the condition number? What accuracy do you expect based on the condition number?"
   ]
  },
  {
   "cell_type": "code",
   "execution_count": 6,
   "id": "d71e4897-2b95-44de-88a0-029c89a24609",
   "metadata": {},
   "outputs": [],
   "source": [
    "# your code here"
   ]
  },
  {
   "cell_type": "markdown",
   "id": "6f316041-7f14-48dd-a458-3a01fe87daa3",
   "metadata": {},
   "source": [
    "your answer (text) here"
   ]
  },
  {
   "cell_type": "markdown",
   "id": "c2a94aca-a8cc-407c-9212-3b09e9bd850e",
   "metadata": {},
   "source": [
    "## (d)\n",
    "How well do the answers of (b) agree with each other (make an appropriate quantitative comparison)?\n",
    "\n",
    "Should we be worried about the fact that the two answers are different?"
   ]
  },
  {
   "cell_type": "code",
   "execution_count": 7,
   "id": "f3087de8-ee2b-45f1-a26c-06c747842835",
   "metadata": {},
   "outputs": [],
   "source": [
    "# your code here"
   ]
  },
  {
   "cell_type": "markdown",
   "id": "02317207-3944-4be0-a8e6-29d81d007b00",
   "metadata": {},
   "source": [
    "your answer (text) here"
   ]
  }
 ],
 "metadata": {
  "kernelspec": {
   "display_name": "Python 3 (ipykernel)",
   "language": "python",
   "name": "python3"
  },
  "language_info": {
   "codemirror_mode": {
    "name": "ipython",
    "version": 3
   },
   "file_extension": ".py",
   "mimetype": "text/x-python",
   "name": "python",
   "nbconvert_exporter": "python",
   "pygments_lexer": "ipython3",
   "version": "3.10.6"
  }
 },
 "nbformat": 4,
 "nbformat_minor": 5
}
