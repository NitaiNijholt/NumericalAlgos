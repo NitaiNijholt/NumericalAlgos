{
 "cells": [
  {
   "cell_type": "markdown",
   "id": "eb459a25-a4dd-415c-ba1f-ad86a4367214",
   "metadata": {
    "nbgrader": {
     "grade": false,
     "grade_id": "cell-06d3e5bf55c941ae",
     "locked": true,
     "schema_version": 3,
     "solution": false,
     "task": false
    },
    "tags": []
   },
   "source": [
    "# Homework set 6"
   ]
  },
  {
   "cell_type": "markdown",
   "id": "abe8d273-e303-413d-9abc-3fc0ccfa3595",
   "metadata": {
    "nbgrader": {
     "grade": false,
     "grade_id": "cell-736ff6bc3e0d0696",
     "locked": true,
     "schema_version": 3,
     "solution": false,
     "task": false
    }
   },
   "source": [
    "Before you turn this problem in, make sure everything runs as expected (in the menubar, select Kernel → Restart Kernel and Run All Cells...).\n",
    "\n",
    "Please **submit this Jupyter notebook through Canvas** no later than **Mon Dec. 11, 9:00**. **Submit the notebook file with your answers (as .ipynb file) and a pdf printout. The pdf version can be used by the teachers to provide feedback. A pdf version can be made using the save and export option in the Jupyter Lab file menu.**\n",
    "\n",
    "Homework is in **groups of two**, and you are expected to hand in original work. Work that is copied from another group will not be accepted."
   ]
  },
  {
   "cell_type": "markdown",
   "id": "923083fc-e388-4eb6-8b57-3f256593d94e",
   "metadata": {
    "nbgrader": {
     "grade": false,
     "grade_id": "cell-b13bc5ed16bce8e0",
     "locked": true,
     "schema_version": 3,
     "solution": false,
     "task": false
    }
   },
   "source": [
    "# Exercise 0\n",
    "Write down the names + student ID of the people in your group."
   ]
  },
  {
   "cell_type": "markdown",
   "id": "4785f9c4-829c-4226-b999-948ebf5864a9",
   "metadata": {
    "nbgrader": {
     "grade": true,
     "grade_id": "cell-fd464f55ba436b1c",
     "locked": false,
     "points": 0,
     "schema_version": 3,
     "solution": true,
     "task": false
    }
   },
   "source": [
    "Pablo Rodriguez Alves - 15310191\n",
    "Nitai Nijholt - 12709018"
   ]
  },
  {
   "cell_type": "markdown",
   "id": "cf801bfc-3576-4853-8c5f-3f1f5d2a88c4",
   "metadata": {},
   "source": [
    "# About imports\n",
    "Please import the needed packages by yourself."
   ]
  },
  {
   "cell_type": "code",
   "execution_count": 99,
   "metadata": {},
   "outputs": [],
   "source": [
    "import numpy as np\n",
    "import scipy as sp\n",
    "import matplotlib.pyplot as plt"
   ]
  },
  {
   "cell_type": "markdown",
   "id": "ea5293e8-b5f4-42fa-a94d-b764aec592da",
   "metadata": {},
   "source": [
    "# Exercise 1\n",
    "N.B.1 tentative points for each part are: 2+1.5+2+2+1.5 (and one point for free gives 10).\n",
    "\n",
    "N.B.2 you are to implement the methods yourself.\n",
    "\n",
    "Given a function $f$, let $T(f,a,b,m)$ denote the composite trapezoid rule with $m$ subintervals over the interval $[a,b]$. \n",
    "## (a)\n",
    "Approximate the integral of $x^{-3}$ over $[a,b] = [ \\frac{1}{10}, 100 ]$ by the composite trapezoid rule $T(f,a,b,m)$ for $m = 2^k$. Find the smallest $k$ such that the exact error is less than $\\epsilon = 10^{-3}$. Explain the slow convergence."
   ]
  },
  {
   "cell_type": "markdown",
   "metadata": {},
   "source": [
    "Let $f(x) = x^{-3}$\n",
    "\n",
    "Then the integral of $f(x)$ is $F(X) = \\frac{-1}{2x^{2}}$\n",
    "\n",
    "\n"
   ]
  },
  {
   "cell_type": "code",
   "execution_count": 100,
   "metadata": {},
   "outputs": [],
   "source": [
    "def func(x):\n",
    "    return x**-3\n",
    "\n",
    "def analytical_integral_of_func(x):\n",
    "    return 1/(2*x**2)"
   ]
  },
  {
   "cell_type": "code",
   "execution_count": 101,
   "metadata": {},
   "outputs": [],
   "source": [
    "def T(func,a,b,m):\n",
    "    \"Heath p. 354\"\n",
    "\n",
    "    # Calculate the width of each trapezoid\n",
    "    h = (b-a)/(m)\n",
    "    \n",
    "    # Evaluate the function at the first point (a) and multiply by 0.5\n",
    "    first_eval = 0.5 * func(a)\n",
    "    # Evaluate the function at the last point (b) and multiply by 0.5\n",
    "    last_eval = 0.5 * func(b)\n",
    "    # Initialize cumulative sum of function evaluations with first and last evaluations\n",
    "    cummulative_evals = first_eval + last_eval\n",
    "\n",
    "    # Loop over each subinterval excluding the endpoints\n",
    "    for j in range(1, m):\n",
    "        # Calculate the x-coordinate for the j-th trapezoid's top edge\n",
    "        x_j = a + j * h\n",
    "        # Add the function value at x_j to the cumulative sum\n",
    "        cummulative_evals += func(x_j)\n",
    "\n",
    "    # Multiply the cumulative sum by the width of the trapezoids to get the final integral approximation\n",
    "    return h * cummulative_evals"
   ]
  },
  {
   "cell_type": "code",
   "execution_count": 102,
   "metadata": {},
   "outputs": [
    {
     "name": "stdout",
     "output_type": "stream",
     "text": [
      "real_value 49.99994999999999\n",
      "k 3 I_trap [6243.75749397] Error_trap [6193.75754397]\n",
      "k 4 I_trap [3121.90449013] Error_trap [3071.90454013]\n",
      "k 5 I_trap [1561.05073775] Error_trap [1511.05078775]\n",
      "k 6 I_trap [780.88615351] Error_trap [730.88620351]\n",
      "k 7 I_trap [391.66295344] Error_trap [341.66300344]\n",
      "k 8 I_trap [199.41997454] Error_trap [149.42002454]\n",
      "k 9 I_trap [108.21547152] Error_trap [58.21552152]\n",
      "k 10 I_trap [69.37382277] Error_trap [19.37387277]\n",
      "k 11 I_trap [55.55840431] Error_trap [5.55845431]\n",
      "k 12 I_trap [51.45919136] Error_trap [1.45924136]\n",
      "k 13 I_trap [50.36991807] Error_trap [0.36996807]\n",
      "k 14 I_trap [50.09278133] Error_trap [0.09283133]\n",
      "k 15 I_trap [50.02317933] Error_trap [0.02322933]\n",
      "k 16 I_trap [50.00575868] Error_trap [0.00580868]\n",
      "< 0.01\n",
      "Done!, k= 16\n"
     ]
    }
   ],
   "source": [
    "# parameters\n",
    "a = 1/10\n",
    "b = 100\n",
    "epsilon = 1/100\n",
    "\n",
    "# Iterate for values of k\n",
    "\n",
    "# F = -1/(x**2)\n",
    "\n",
    "# F(b) - F(a)\n",
    "real_value = (-1/(2*b**2)) - (-1/(2*a**2))\n",
    "print('real_value', real_value)\n",
    "\n",
    "\n",
    "for k in range(3,30):\n",
    "    m = 2**k\n",
    "\n",
    "    # Version Pablito\n",
    "    # h = (b - a) / m \n",
    "    # x = np.linspace(a, b, m + 1)\n",
    "    # f = (1/x**3) #-1/(x**2)\n",
    "    # I_trap = (h/2)*(f[0] + 2 * sum(f[1:-2]) + f[-1])\n",
    "    # print('I_trap_Pablito', I_trap)\n",
    "\n",
    "\n",
    "    I_trap = np.array([T(func,a,b,m)])\n",
    "    err_trap = real_value - I_trap\n",
    "    err_trap = np.abs(err_trap)\n",
    "    print('k',k,'I_trap',I_trap,'Error_trap',err_trap)\n",
    "\n",
    "    if err_trap < epsilon:\n",
    "        print('<',epsilon)\n",
    "        print('Done!, k=',k)\n",
    "        break"
   ]
  },
  {
   "cell_type": "markdown",
   "id": "da3608cd-207d-4679-8fd1-5ee7611d3929",
   "metadata": {
    "tags": []
   },
   "source": [
    "## (b)\n",
    "\n",
    "To improve the convergence rate of the above problem, we may use an adaptive strategy, as discussed in the book and the lecture. Consider the following formulas for approximate integration\n",
    "$$\\begin{aligned}\n",
    "I_1(f,a,b) = {}& T(f,a,b,1) \\\\\n",
    "I_2(f,a,b) = {}& T(f,a,b,2) .\n",
    "\\end{aligned}$$\n",
    "Show, based on the error estimates for the trapezoid rule using the Taylor series (book example 8.2) that the error in $I_2$ can be estimated by a formula of the form \n",
    "$$E_2 = C (I_1 - I_2)$$\n",
    "and determine the constant $C$ (if you can't find $C$, you may take $C = 0.5$)."
   ]
  },
  {
   "cell_type": "markdown",
   "id": "6979c60b-8ecd-45bd-8b88-acecfdd03940",
   "metadata": {},
   "source": [
    "## (c)\n",
    "An adaptive strategy for computing the integral on an interval $[a,b]$ now is: Compute $I_2$ and $E_2$, and accept $I_2$ as an approximation when the estimated error $E_2$ is less or equal than a desired tolerance $\\epsilon$.  Otherwise, apply the procedure to \n",
    "$\\int_a^{\\frac{b+a}{2}} f(x) \\, dx$ and $\\int_{\\frac{b+a}{2}}^b f(x) \\, dx$ with tolerances $\\frac{\\epsilon}{2}$.\n",
    "\n",
    "Write a recursive python routine that implements the adaptive strategy.\n",
    "\n",
    "Then apply this routine to the function $x^{-3}$ with $a, b, \\epsilon$ as before. What is the exact error in the obtained approximation? "
   ]
  },
  {
   "cell_type": "code",
   "execution_count": 103,
   "metadata": {},
   "outputs": [],
   "source": [
    "global function_evals_adaptive_quad_no_dupes \n",
    "function_evals_adaptive_quad_no_dupes = 0\n",
    "global function_evals_adapt_quad \n",
    "function_evals_adapt_quad = 0"
   ]
  },
  {
   "cell_type": "code",
   "execution_count": 104,
   "metadata": {},
   "outputs": [],
   "source": [
    "def T_midpoint(func, a,b,k):\n",
    "    \"Heath p.354\"\n",
    "    h = (b-a)/k\n",
    "    x_prev = a \n",
    "    cumsum = 0\n",
    "    for j in range(k): # check if this range is right for closed interval\n",
    "        x = x_prev + j*h\n",
    "        cumsum + ((func(x_prev) + func(x))/2)\n",
    "    \n",
    "    return h * cumsum\n"
   ]
  },
  {
   "cell_type": "code",
   "execution_count": 105,
   "id": "8f66a8b2-02e4-4ab0-9801-709b3d6d085f",
   "metadata": {},
   "outputs": [],
   "source": [
    "def AdaptiveQuadrature(func,a,b,I):\n",
    "    \"From heath p.357\"\n",
    "    function_evals_adapt_quad += 1  # Initialize the function evaluations counter.\n",
    "\n",
    "    \n",
    "    # Calculate an initial estimate using a method T (presumably a trapezoidal rule).\n",
    "    I_1 = T(func, a, b, m) \n",
    "    # Increment function evaluation count.\n",
    "    function_evals_adapt_quad += 1 \n",
    "     \n",
    "    # Calculate another estimate, possibly using a midpoint rule.\n",
    "    I_2 = T_midpoint(func, a, b)\n",
    "     # Increment function evaluation count.\n",
    "    function_evals_adapt_quad += 1 \n",
    "\n",
    "\n",
    "    # Compute the midpoint of the interval [a, b].\n",
    "    m = a + (b-a)/2\n",
    "\n",
    "    # Check for convergence: if the midpoint is at or outside the interval bounds.\n",
    "    if ((m <= a) or (m >= b)):\n",
    "        print('Warning, convergence tolerance met, returning last result')\n",
    "        function_evals_adapt_quad += 1\n",
    "        # Return the current estimate if convergence criteria are met.\n",
    "        return I_2\n",
    "\n",
    "    # Estimate integral by summing function values at 3 random points.\n",
    "    I_est = np.sum(func(np.random.uniform(a, b, 3)))\n",
    "\n",
    "     # Check if the difference between estimates is negligible.\n",
    "    if (I_est + (I_2 - I_1) == I_est):\n",
    "        function_evals_adapt_quad += 1\n",
    "        # Return the current estimate if the difference is negligible.\n",
    "        return I_2 \n",
    "\n",
    "    # If the difference is significant, recursively apply the method to smaller intervals.\n",
    "    else:\n",
    "        function_evals_adapt_quad += 1\n",
    "        return (AdaptiveQuadrature(func, a, m, I) + AdaptiveQuadrature(func, m, b, I))\n",
    "\n",
    "\n"
   ]
  },
  {
   "cell_type": "markdown",
   "id": "38054a2a-24b4-4467-8dad-4ad193400213",
   "metadata": {},
   "source": [
    "## (d)\n",
    "Modify the code of (c) so that the number of function evaluations is counted and that no unnecessary function evaluations are performed. Compare the number of function evaluations used in the adaptive strategy of (c) with the result of (a). \n",
    "(*Hint*: To count the number of function evaluations, you may use a global variable that is incremented by the function each time it is called.)"
   ]
  },
  {
   "cell_type": "markdown",
   "id": "280bce8f-5bb7-4900-9813-6b29149dd011",
   "metadata": {},
   "source": [
    "# Answer\n",
    "The idea is to store calculations that have been done, so that they do not need to be computed again, so that way we can save on function evaluations"
   ]
  },
  {
   "cell_type": "code",
   "execution_count": 106,
   "metadata": {},
   "outputs": [],
   "source": [
    "def AdaptiveQuadratureNoDupes(func, a, b, I):\n",
    "    \"\"\"Reference to Heath p.357\"\"\"\n",
    "    function_evals_adaptive_quad_no_dupes += 1\n",
    "\n",
    "    # Lists to keep track of previous function calls and their evaluations to avoid duplicate calculations\n",
    "    prev_calls_I_1 = []\n",
    "    prev_evals_I_1 = []\n",
    "    prev_calls_I_2 = []\n",
    "    prev_evals_I_2 = []\n",
    "\n",
    "    # Check if the function call T(func, a, b) has been made previously\n",
    "    if f'T({func},{a},{b})' in prev_calls_I_1:\n",
    "        I_1_index = prev_calls_I_1.index(f'T({func},{a},{b})')\n",
    "        I_1 = prev_evals_I_1[I_1_index]\n",
    "    else:\n",
    "        # Compute I_1 and update the counter if not a duplicate\n",
    "        I_1 = T(func, a, b)\n",
    "        function_evals_adaptive_quad_no_dupes += 1\n",
    "        prev_calls_I_1.append(f'T({func},{a},{b})')\n",
    "        prev_evals_I_1.append(I_1)\n",
    "\n",
    "    # Similar check for T_midpoint(func, a, b)\n",
    "    if f'T_midpoint({func},{a},{b})' in prev_calls_I_2:\n",
    "        I_2_index = prev_calls_I_2.index(f'T_midpoint({func},{a},{b})')\n",
    "        I_2 = prev_evals_I_2[I_2_index]\n",
    "    else:\n",
    "        # Compute I_2 and update the counter if not a duplicate\n",
    "        I_2 = T_midpoint(func, a, b)\n",
    "        function_evals_adaptive_quad_no_dupes += 1\n",
    "        prev_calls_I_2.append(f'T_midpoint({func},{a},{b})')\n",
    "        prev_evals_I_2.append(I_2)\n",
    "    \n",
    "    # Calculate the midpoint of the interval\n",
    "    m = a + (b - a) / 2\n",
    "\n",
    "    # Check for convergence issues\n",
    "    if (m <= a) or (m >= b):\n",
    "        print('Warning: Convergence tolerance met, returning last result')\n",
    "        return I_2\n",
    "    \n",
    "    # Estimate the integral using random sampling\n",
    "    I_est = np.sum(func(np.random.uniform(a, b, 3)))\n",
    "    function_evals_adaptive_quad_no_dupes += 3 \n",
    "\n",
    "    # Check the accuracy of the integral estimation\n",
    "    if (I_est + (I_2 - I_1) == I_est):\n",
    "        return I_2\n",
    "    else:\n",
    "        # Recursive call for further refinement if the condition is not met\n",
    "        return (AdaptiveQuadratureNoDupes(func, a, m, I) + \n",
    "                AdaptiveQuadratureNoDupes(func, m, b, I))"
   ]
  },
  {
   "cell_type": "markdown",
   "id": "5d3709eb-4f5e-493a-865f-31f31510ea5e",
   "metadata": {},
   "source": [
    "## (e)\n",
    "In the course of executing the recursive procedure, some subintervals are refined (split in two subintervals) while others aren't as a result of the choices made by the algorithm. It turns out that the choices made by this algorithm are not always optimal. Other algorithms, that decide in a different way which subinterval needs to be refined, may be more efficient in the sense that they require less function evaluations (while using the same formulas for the approximate integral and the approximate error associated with a subinterval).\n",
    "\n",
    "Can you explain why this is the case? Discuss briefly possible alternative approaches.\n"
   ]
  },
  {
   "cell_type": "markdown",
   "id": "4384b2a4-1738-440c-bc1a-9531dca3e126",
   "metadata": {},
   "source": []
  }
 ],
 "metadata": {
  "kernelspec": {
   "display_name": "Python 3 (ipykernel)",
   "language": "python",
   "name": "python3"
  },
  "language_info": {
   "codemirror_mode": {
    "name": "ipython",
    "version": 3
   },
   "file_extension": ".py",
   "mimetype": "text/x-python",
   "name": "python",
   "nbconvert_exporter": "python",
   "pygments_lexer": "ipython3",
   "version": "3.11.6"
  }
 },
 "nbformat": 4,
 "nbformat_minor": 5
}
