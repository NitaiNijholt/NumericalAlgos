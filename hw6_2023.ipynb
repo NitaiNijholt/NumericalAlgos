{
 "cells": [
  {
   "cell_type": "markdown",
   "id": "eb459a25-a4dd-415c-ba1f-ad86a4367214",
   "metadata": {
    "nbgrader": {
     "grade": false,
     "grade_id": "cell-06d3e5bf55c941ae",
     "locked": true,
     "schema_version": 3,
     "solution": false,
     "task": false
    },
    "tags": []
   },
   "source": [
    "# Homework set 6"
   ]
  },
  {
   "cell_type": "markdown",
   "id": "abe8d273-e303-413d-9abc-3fc0ccfa3595",
   "metadata": {
    "nbgrader": {
     "grade": false,
     "grade_id": "cell-736ff6bc3e0d0696",
     "locked": true,
     "schema_version": 3,
     "solution": false,
     "task": false
    }
   },
   "source": [
    "Before you turn this problem in, make sure everything runs as expected (in the menubar, select Kernel → Restart Kernel and Run All Cells...).\n",
    "\n",
    "Please **submit this Jupyter notebook through Canvas** no later than **Mon Dec. 11, 9:00**. **Submit the notebook file with your answers (as .ipynb file) and a pdf printout. The pdf version can be used by the teachers to provide feedback. A pdf version can be made using the save and export option in the Jupyter Lab file menu.**\n",
    "\n",
    "Homework is in **groups of two**, and you are expected to hand in original work. Work that is copied from another group will not be accepted."
   ]
  },
  {
   "cell_type": "markdown",
   "id": "923083fc-e388-4eb6-8b57-3f256593d94e",
   "metadata": {
    "nbgrader": {
     "grade": false,
     "grade_id": "cell-b13bc5ed16bce8e0",
     "locked": true,
     "schema_version": 3,
     "solution": false,
     "task": false
    }
   },
   "source": [
    "# Exercise 0\n",
    "Write down the names + student ID of the people in your group."
   ]
  },
  {
   "cell_type": "markdown",
   "id": "4785f9c4-829c-4226-b999-948ebf5864a9",
   "metadata": {
    "nbgrader": {
     "grade": true,
     "grade_id": "cell-fd464f55ba436b1c",
     "locked": false,
     "points": 0,
     "schema_version": 3,
     "solution": true,
     "task": false
    }
   },
   "source": [
    "Pablo Rodriguez Alves - 15310191\n",
    "Nitai Nijholt - 12709018"
   ]
  },
  {
   "cell_type": "markdown",
   "id": "cf801bfc-3576-4853-8c5f-3f1f5d2a88c4",
   "metadata": {},
   "source": [
    "# About imports\n",
    "Please import the needed packages by yourself."
   ]
  },
  {
   "cell_type": "code",
   "execution_count": 3,
   "metadata": {},
   "outputs": [],
   "source": [
    "import numpy as np\n",
    "import scipy as sp\n",
    "import matplotlib.pyplot as plt"
   ]
  },
  {
   "cell_type": "markdown",
   "id": "ea5293e8-b5f4-42fa-a94d-b764aec592da",
   "metadata": {},
   "source": [
    "# Exercise 1\n",
    "N.B.1 tentative points for each part are: 2+1.5+2+2+1.5 (and one point for free gives 10).\n",
    "\n",
    "N.B.2 you are to implement the methods yourself.\n",
    "\n",
    "Given a function $f$, let $T(f,a,b,m)$ denote the composite trapezoid rule with $m$ subintervals over the interval $[a,b]$. \n",
    "## (a)\n",
    "Approximate the integral of $x^{-3}$ over $[a,b] = [ \\frac{1}{10}, 100 ]$ by the composite trapezoid rule $T(f,a,b,m)$ for $m = 2^k$. Find the smallest $k$ such that the exact error is less than $\\epsilon = 10^{-3}$. Explain the slow convergence."
   ]
  },
  {
   "cell_type": "markdown",
   "metadata": {},
   "source": [
    "Let $f(x) = x^{-3}$\n",
    "\n",
    "Then the integral of $f(x)$ is $F(X) = \\frac{-1}{2x^{2}}$\n",
    "\n",
    "\n"
   ]
  },
  {
   "cell_type": "code",
   "execution_count": 4,
   "metadata": {},
   "outputs": [],
   "source": [
    "def func(x):\n",
    "    return x**-3\n",
    "\n",
    "def analytical_integral_of_func(x):\n",
    "    return 1/(2*x**2)"
   ]
  },
  {
   "cell_type": "code",
   "execution_count": 18,
   "metadata": {},
   "outputs": [],
   "source": [
    "def T(func,a,b,m):\n",
    "\n",
    "#     k = np.log2(m)\n",
    "\n",
    "    print(m)\n",
    "\n",
    "    h = (b-a)/(m -1)\n",
    "\n",
    "    \n",
    "\n",
    "\n",
    "\n",
    "    first_eval = 0.5*func(a)\n",
    "    last_eval = 0.5*func(b)\n",
    "    cummulative_evals = first_eval + last_eval\n",
    "#     analytical_sol = []\n",
    "#     numerical_sol = []\n",
    "\n",
    "#     numerical_sol.append(first_eval)\n",
    "\n",
    "    for j in range(int(m)-1 + 1):\n",
    "        x_j = a + j*h\n",
    "\n",
    "#             numerical_sol.append(h*func(x_j))\n",
    "#             analytical_sol.append(analytical_deriv_of_func(x_j))\n",
    "        cummulative_evals + func(x_j)\n",
    "\n",
    "\n",
    "\n",
    "\n",
    "\n",
    "#     numerical_sol.append(last_eval)\n",
    "#     numerical_sol = np.array(numerical_sol)\n",
    "#     analytical_sol = np.array(analytical_sol)\n",
    "\n",
    "#     numerical_sol_sum = np.sum(numerical_sol)\n",
    "#     analytical_sol_sum = np.sum(analytical_sol)\n",
    "#     print(numerical_sol_sum)\n",
    "#     print(analytical_sol_sum)\n",
    "#     error =  np.linalg.norm(numerical_sol, analytical_sol)\n",
    "    # print(error)\n",
    "#     return numerical_sol_sum, analytical_sol_sum, error\n",
    "        return h*cummulative_evals"
   ]
  },
  {
   "cell_type": "code",
   "execution_count": 26,
   "metadata": {},
   "outputs": [
    {
     "name": "stdout",
     "output_type": "stream",
     "text": [
      "0.1\n",
      "3.4000000000000004\n",
      "6.7\n"
     ]
    }
   ],
   "source": [
    "a = 1/10\n",
    "b = 10\n",
    "ms = [2**k for k in range(2, 30)]\n",
    "\n",
    "\n",
    "h = (b-a)/(m -1)\n",
    "\n",
    "for j in range(int(m)-1):\n",
    "        x_j = a + j*h\n",
    "        print(x_j)"
   ]
  },
  {
   "cell_type": "code",
   "execution_count": 24,
   "metadata": {},
   "outputs": [
    {
     "name": "stdout",
     "output_type": "stream",
     "text": [
      "[ 0.1  3.4  6.7 10. ]\n"
     ]
    }
   ],
   "source": [
    "m = ms[0]\n",
    "print(np.linspace(a,b,m))"
   ]
  },
  {
   "cell_type": "code",
   "execution_count": 6,
   "metadata": {},
   "outputs": [],
   "source": [
    "# a = 1/10\n",
    "# b = 100\n",
    "# m = 1000\n",
    "# h = (b - a) / (m - 1) -> where are you getting m-1 from?\n",
    "# x = np.linspace(a, b, m) -> why not m-1 here?\n",
    "# f = -1/(x**2)\n",
    "\n",
    "# I_trap = (h/2)*(f[0] + 2 * sum(f[1:m-1]) + f[m-1]) -> not missing 1/2 * f(a) in beginning and 1/2 * f(b) at the end?\n",
    "# err_trap = 999999/20000 - I_trap\n",
    "\n",
    "# print(I_trap)\n",
    "# print(err_trap)\n",
    "\n",
    "# epsilon = 1/100\n",
    "# # Iterate for values of k\n",
    "# for k in range(3,30):\n",
    "#     m = 2**k\n",
    "#     h = (b-a)/(m-1)\n",
    "#     x = np.linspace(a,b,m)\n",
    "#     F = -1/(x**2) -> using analytical integral, I do not think that is right\n",
    "#     I_trap = (h/2)*(F[0] + 2 * sum(F[1:m-1]) + F[m-1]) -> using analytical integral, is that right?\n",
    "\n",
    "\"If Qn is closed, on the other hand, then some of the points\n",
    "are repeated, so that only k(n 􀀀 1) + 1\"\n",
    "\n",
    "\n",
    "#     err_trap = 999999/20000 - I_trap\n",
    "\n",
    "#     print('k',k,'I_trap',I_trap,err_trap)\n",
    "\n",
    "#     if err_trap < epsilon:\n",
    "#         print('<',epsilon)\n",
    "#         print('Done!, k=',k)"
   ]
  },
  {
   "cell_type": "code",
   "execution_count": 19,
   "metadata": {},
   "outputs": [
    {
     "name": "stdout",
     "output_type": "stream",
     "text": [
      "4\n",
      "8\n",
      "16\n",
      "32\n",
      "64\n",
      "128\n",
      "256\n",
      "512\n",
      "1024\n",
      "2048\n",
      "4096\n",
      "8192\n",
      "16384\n",
      "32768\n",
      "65536\n",
      "131072\n",
      "262144\n",
      "524288\n",
      "1048576\n",
      "2097152\n",
      "4194304\n",
      "8388608\n",
      "16777216\n",
      "33554432\n",
      "67108864\n",
      "134217728\n",
      "268435456\n",
      "536870912\n"
     ]
    }
   ],
   "source": [
    "a = 1/10\n",
    "b = 10\n",
    "ms = [2**k for k in range(2, 30)]\n",
    "points = [np.linspace(a,b,m) for m in ms]\n",
    "\n",
    "\n",
    "numerical = [T(func,a,b,m) for m in ms]\n",
    "analytical = [analytical_integral_of_func(point) for point in points]\n",
    "    \n",
    "# k = np.log2(m)\n",
    "\n",
    "# ks = [np.log2(m) for m in ms]\n",
    "# hs = np.array([(a-b)/k for k in ks])\n",
    "# xs = [a + j*h for j, h in enumerate(hs)]\n",
    "\n",
    "\n",
    "# analytical = np.array([analytical_deriv_of_func(x) for x in xs])"
   ]
  },
  {
   "cell_type": "code",
   "execution_count": 20,
   "metadata": {},
   "outputs": [
    {
     "data": {
      "text/plain": [
       "[1650.00165,\n",
       " 707.1435642857142,\n",
       " 330.00032999999996,\n",
       " 159.67757903225805,\n",
       " 78.57150714285713,\n",
       " 38.976416929133855,\n",
       " 19.411784117647056,\n",
       " 9.686898140900196,\n",
       " 4.8387145161290315,\n",
       " 2.418175354176844,\n",
       " 1.2087924175824174,\n",
       " 0.6043224209498229,\n",
       " 0.30214276689251046,\n",
       " 0.151066772972808,\n",
       " 0.07553223392080566,\n",
       " 0.037765828825598334,\n",
       " 0.018882842379922406,\n",
       " 0.009441403181845057,\n",
       " 0.004720697088906373,\n",
       " 0.0023603474189507574,\n",
       " 0.0011801734280999726,\n",
       " 0.00059008664370616,\n",
       " 0.00029504330426712656,\n",
       " 0.0001475216477370753,\n",
       " 7.376082276941571e-05,\n",
       " 3.688041110992738e-05,\n",
       " 1.8440205486268568e-05,\n",
       " 9.220102725960505e-06]"
      ]
     },
     "execution_count": 20,
     "metadata": {},
     "output_type": "execute_result"
    }
   ],
   "source": [
    "numerical"
   ]
  },
  {
   "cell_type": "code",
   "execution_count": 16,
   "metadata": {},
   "outputs": [],
   "source": [
    "summed_analytical = [np.sum(analytical[item]) for item in range(len(analytical))]"
   ]
  },
  {
   "cell_type": "code",
   "execution_count": 17,
   "metadata": {},
   "outputs": [
    {
     "data": {
      "text/plain": [
       "[50.05939093331565,\n",
       " 50.33944868625798,\n",
       " 51.46830559053808,\n",
       " 55.3305030531471,\n",
       " 66.56221177180655,\n",
       " 94.41315729102637,\n",
       " 155.64906935671104,\n",
       " 282.10516925821736,\n",
       " 537.3074502579758,\n",
       " 1048.905340194781,\n",
       " 2072.703941459731,\n",
       " 4120.603217259674,\n",
       " 8216.552856659342,\n",
       " 16408.52767769917,\n",
       " 32792.51508867473,\n",
       " 65560.5087942915,\n",
       " 131096.50564713404,\n",
       " 262168.50407356396,\n",
       " 524312.5032867816,\n",
       " 1048600.50289339,\n",
       " 2097176.5026966957,\n",
       " 4194328.502598351,\n",
       " 8388632.502549171,\n",
       " 16777240.50252456,\n",
       " 33554456.50251222,\n",
       " 67108888.50250576,\n",
       " 134217752.50250283,\n",
       " 268435480.5025028]"
      ]
     },
     "execution_count": 17,
     "metadata": {},
     "output_type": "execute_result"
    }
   ],
   "source": [
    "summed_analytical"
   ]
  },
  {
   "cell_type": "code",
   "execution_count": null,
   "metadata": {},
   "outputs": [
    {
     "data": {
      "text/plain": [
       "[0.0, 1.0, 2.0, 3.0, 4.0, 5.0, 6.0, 7.0, 8.0, 9.0]"
      ]
     },
     "execution_count": 147,
     "metadata": {},
     "output_type": "execute_result"
    }
   ],
   "source": [
    "ks"
   ]
  },
  {
   "cell_type": "code",
   "execution_count": null,
   "metadata": {},
   "outputs": [
    {
     "data": {
      "text/plain": [
       "array([       -inf, -9.9       , -4.95      , -3.3       , -2.475     ,\n",
       "       -1.98      , -1.65      , -1.41428571, -1.2375    , -1.1       ])"
      ]
     },
     "execution_count": 148,
     "metadata": {},
     "output_type": "execute_result"
    }
   ],
   "source": [
    "hs"
   ]
  },
  {
   "cell_type": "code",
   "execution_count": null,
   "metadata": {},
   "outputs": [
    {
     "data": {
      "text/plain": [
       "[nan, -9.8, -9.8, -9.8, -9.8, -9.8, -9.8, -9.8, -9.8, -9.8]"
      ]
     },
     "execution_count": 149,
     "metadata": {},
     "output_type": "execute_result"
    }
   ],
   "source": [
    "xs"
   ]
  },
  {
   "cell_type": "code",
   "execution_count": null,
   "metadata": {},
   "outputs": [
    {
     "data": {
      "text/plain": [
       "[<matplotlib.lines.Line2D at 0x21ff0d492d0>]"
      ]
     },
     "execution_count": 150,
     "metadata": {},
     "output_type": "execute_result"
    },
    {
     "data": {
      "image/png": "[encoded data removed]",
      "text/plain": [
       "<Figure size 640x480 with 1 Axes>"
      ]
     },
     "metadata": {},
     "output_type": "display_data"
    }
   ],
   "source": [
    "plt.plot(analytical, label = 'analytical')"
   ]
  },
  {
   "cell_type": "code",
   "execution_count": null,
   "metadata": {},
   "outputs": [
    {
     "data": {
      "image/png": "[encoded data removed]",
      "text/plain": [
       "<Figure size 640x480 with 1 Axes>"
      ]
     },
     "metadata": {},
     "output_type": "display_data"
    }
   ],
   "source": [
    "\n",
    "plt.plot(numerical[0], label = 'analytical')\n",
    "plt.plot(numerical[1], label = 'numerical')\n",
    "plt.title( \"Analytical vs. numerical for different values of m\")\n",
    "plt.legend()\n",
    "plt.show()"
   ]
  },
  {
   "cell_type": "code",
   "execution_count": null,
   "metadata": {},
   "outputs": [
    {
     "data": {
      "image/png": "[encoded data removed]",
      "text/plain": [
       "<Figure size 640x480 with 1 Axes>"
      ]
     },
     "metadata": {},
     "output_type": "display_data"
    }
   ],
   "source": [
    "\n",
    "plt.plot(error, label = 'Error')\n",
    "plt.legend()\n",
    "plt.show()"
   ]
  },
  {
   "cell_type": "code",
   "execution_count": null,
   "metadata": {},
   "outputs": [],
   "source": []
  },
  {
   "cell_type": "markdown",
   "id": "da3608cd-207d-4679-8fd1-5ee7611d3929",
   "metadata": {
    "tags": []
   },
   "source": [
    "## (b)\n",
    "\n",
    "To improve the convergence rate of the above problem, we may use an adaptive strategy, as discussed in the book and the lecture. Consider the following formulas for approximate integration\n",
    "$$\\begin{aligned}\n",
    "I_1(f,a,b) = {}& T(f,a,b,1) \\\\\n",
    "I_2(f,a,b) = {}& T(f,a,b,2) .\n",
    "\\end{aligned}$$\n",
    "Show, based on the error estimates for the trapezoid rule using the Taylor series (book example 8.2) that the error in $I_2$ can be estimated by a formula of the form \n",
    "$$E_2 = C (I_1 - I_2)$$\n",
    "and determine the constant $C$ (if you can't find $C$, you may take $C = 0.5$)."
   ]
  },
  {
   "cell_type": "markdown",
   "id": "6979c60b-8ecd-45bd-8b88-acecfdd03940",
   "metadata": {},
   "source": [
    "## (c)\n",
    "An adaptive strategy for computing the integral on an interval $[a,b]$ now is: Compute $I_2$ and $E_2$, and accept $I_2$ as an approximation when the estimated error $E_2$ is less or equal than a desired tolerance $\\epsilon$.  Otherwise, apply the procedure to \n",
    "$\\int_a^{\\frac{b+a}{2}} f(x) \\, dx$ and $\\int_{\\frac{b+a}{2}}^b f(x) \\, dx$ with tolerances $\\frac{\\epsilon}{2}$.\n",
    "\n",
    "Write a recursive python routine that implements the adaptive strategy.\n",
    "\n",
    "Then apply this routine to the function $x^{-3}$ with $a, b, \\epsilon$ as before. What is the exact error in the obtained approximation? "
   ]
  },
  {
   "cell_type": "code",
   "execution_count": null,
   "metadata": {},
   "outputs": [],
   "source": [
    "global function_evals_adaptive_quad_no_dupes \n",
    "function_evals_adaptive_quad_no_dupes = 0\n",
    "global function_evals_adapt_quad \n",
    "function_evals_adapt_quad = 0"
   ]
  },
  {
   "cell_type": "code",
   "execution_count": null,
   "metadata": {},
   "outputs": [],
   "source": [
    "def T_midpoint(func, a,b,k):\n",
    "    \"Heath p.354\"\n",
    "    h = (b-a)/k\n",
    "    x_prev = a \n",
    "    cumsum = 0\n",
    "    for j in range(k): # check if this range is right for closed interval\n",
    "        x = x_prev + j*h\n",
    "        cumsum + ((func(x_prev) + func(x))/2)\n",
    "    \n",
    "    return h * cumsum\n"
   ]
  },
  {
   "cell_type": "code",
   "execution_count": null,
   "id": "8f66a8b2-02e4-4ab0-9801-709b3d6d085f",
   "metadata": {},
   "outputs": [],
   "source": [
    "def AdaptiveQuadrature(func,a,b,I):\n",
    "    \"From heath p.357\"\n",
    "    function_evals_adapt_quad += 1  # Initialize the function evaluations counter.\n",
    "    \n",
    "    # Calculate an initial estimate using a method T (presumably a trapezoidal rule).\n",
    "    I_1 = T(func, a, b) \n",
    "    # Increment function evaluation count.\n",
    "    function_evals_adapt_quad += 1 \n",
    "     \n",
    "    # Calculate another estimate, possibly using a midpoint rule.\n",
    "    I_2 = T_midpoint(func, a, b)\n",
    "     # Increment function evaluation count.\n",
    "    function_evals_adapt_quad += 1 \n",
    "\n",
    "    # Compute the midpoint of the interval [a, b].\n",
    "    m = a + (b-a)/2\n",
    "\n",
    "    # Check for convergence: if the midpoint is at or outside the interval bounds.\n",
    "    if ((m <= a) or (m >= b)):\n",
    "        print('Warning, convergence tolerance met, returning last result')\n",
    "        function_evals_adapt_quad += 1\n",
    "        # Return the current estimate if convergence criteria are met.\n",
    "        return I_2\n",
    "\n",
    "    # Estimate integral by summing function values at 3 random points.\n",
    "    I_est = np.sum(func(np.random.uniform(a, b, 3)))\n",
    "\n",
    "     # Check if the difference between estimates is negligible.\n",
    "    if (I_est + (I_2 - I_1) == I_est):\n",
    "        function_evals_adapt_quad += 1\n",
    "        # Return the current estimate if the difference is negligible.\n",
    "        return I_2 \n",
    "\n",
    "    # If the difference is significant, recursively apply the method to smaller intervals.\n",
    "    else:\n",
    "        function_evals_adapt_quad += 1\n",
    "        return (AdaptiveQuadrature(func, a, m, I) + AdaptiveQuadrature(func, m, b, I))\n",
    "\n",
    "\n"
   ]
  },
  {
   "cell_type": "markdown",
   "id": "38054a2a-24b4-4467-8dad-4ad193400213",
   "metadata": {},
   "source": [
    "## (d)\n",
    "Modify the code of (c) so that the number of function evaluations is counted and that no unnecessary function evaluations are performed. Compare the number of function evaluations used in the adaptive strategy of (c) with the result of (a). \n",
    "(*Hint*: To count the number of function evaluations, you may use a global variable that is incremented by the function each time it is called.)"
   ]
  },
  {
   "cell_type": "markdown",
   "id": "280bce8f-5bb7-4900-9813-6b29149dd011",
   "metadata": {},
   "source": [
    "# Answer\n",
    "The idea is to store calculations that have been done, so that they do not need to be computed again, so that way we can save on function evaluations"
   ]
  },
  {
   "cell_type": "code",
   "execution_count": null,
   "metadata": {},
   "outputs": [],
   "source": [
    "def AdaptiveQuadratureNoDupes(func, a, b, I):\n",
    "    \"\"'Reference to Heath p.357\"\"\"\n",
    "    function_evals_adaptive_quad_no_dupes += 1\n",
    "\n",
    "    # Lists to keep track of previous function calls and their evaluations to avoid duplicate calculations\n",
    "    prev_calls_I_1 = []\n",
    "    prev_evals_I_1 = []\n",
    "    prev_calls_I_2 = []\n",
    "    prev_evals_I_2 = []\n",
    "\n",
    "    # Check if the function call T(func, a, b) has been made previously\n",
    "    if f'T({func},{a},{b})' in prev_calls_I_1:\n",
    "        I_1_index = prev_calls_I_1.index(f'T({func},{a},{b})')\n",
    "        I_1 = prev_evals_I_1[I_1_index]\n",
    "    else:\n",
    "        # Compute I_1 and update the counter if not a duplicate\n",
    "        I_1 = T(func, a, b)\n",
    "        function_evals_adaptive_quad_no_dupes += 1\n",
    "        prev_calls_I_1.append(f'T({func},{a},{b})')\n",
    "        prev_evals_I_1.append(I_1)\n",
    "\n",
    "    # Similar check for T_midpoint(func, a, b)\n",
    "    if f'T_midpoint({func},{a},{b})' in prev_calls_I_2:\n",
    "        I_2_index = prev_calls_I_2.index(f'T_midpoint({func},{a},{b})')\n",
    "        I_2 = prev_evals_I_2[I_2_index]\n",
    "    else:\n",
    "        # Compute I_2 and update the counter if not a duplicate\n",
    "        I_2 = T_midpoint(func, a, b)\n",
    "        function_evals_adaptive_quad_no_dupes += 1\n",
    "        prev_calls_I_2.append(f'T_midpoint({func},{a},{b})')\n",
    "        prev_evals_I_2.append(I_2)\n",
    "    \n",
    "    # Calculate the midpoint of the interval\n",
    "    m = a + (b - a) / 2\n",
    "\n",
    "    # Check for convergence issues\n",
    "    if (m <= a) or (m >= b):\n",
    "        print('Warning: Convergence tolerance met, returning last result')\n",
    "        return I_2\n",
    "    \n",
    "    # Estimate the integral using random sampling\n",
    "    I_est = np.sum(func(np.random.uniform(a, b, 3)))\n",
    "    function_evals_adaptive_quad_no_dupes += 3 \n",
    "\n",
    "    # Check the accuracy of the integral estimation\n",
    "    if (I_est + (I_2 - I_1) == I_est):\n",
    "        return I_2\n",
    "    else:\n",
    "        # Recursive call for further refinement if the condition is not met\n",
    "        return (AdaptiveQuadratureNoDupes(func, a, m, I) + \n",
    "                AdaptiveQuadratureNoDupes(func, m, b, I))"
   ]
  },
  {
   "cell_type": "markdown",
   "id": "5d3709eb-4f5e-493a-865f-31f31510ea5e",
   "metadata": {},
   "source": [
    "## (e)\n",
    "In the course of executing the recursive procedure, some subintervals are refined (split in two subintervals) while others aren't as a result of the choices made by the algorithm. It turns out that the choices made by this algorithm are not always optimal. Other algorithms, that decide in a different way which subinterval needs to be refined, may be more efficient in the sense that they require less function evaluations (while using the same formulas for the approximate integral and the approximate error associated with a subinterval).\n",
    "\n",
    "Can you explain why this is the case? Discuss briefly possible alternative approaches.\n"
   ]
  },
  {
   "cell_type": "markdown",
   "id": "4384b2a4-1738-440c-bc1a-9531dca3e126",
   "metadata": {},
   "source": []
  }
 ],
 "metadata": {
  "kernelspec": {
   "display_name": "Python 3 (ipykernel)",
   "language": "python",
   "name": "python3"
  },
  "language_info": {
   "codemirror_mode": {
    "name": "ipython",
    "version": 3
   },
   "file_extension": ".py",
   "mimetype": "text/x-python",
   "name": "python",
   "nbconvert_exporter": "python",
   "pygments_lexer": "ipython3",
   "version": "3.11.6"
  }
 },
 "nbformat": 4,
 "nbformat_minor": 5
}
